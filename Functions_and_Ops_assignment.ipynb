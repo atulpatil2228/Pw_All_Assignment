{
  "nbformat": 4,
  "nbformat_minor": 0,
  "metadata": {
    "colab": {
      "provenance": [],
      "authorship_tag": "ABX9TyNWlfQ4mQ178KzehZy8i8gi",
      "include_colab_link": true
    },
    "kernelspec": {
      "name": "python3",
      "display_name": "Python 3"
    },
    "language_info": {
      "name": "python"
    }
  },
  "cells": [
    {
      "cell_type": "markdown",
      "metadata": {
        "id": "view-in-github",
        "colab_type": "text"
      },
      "source": [
        "<a href=\"https://colab.research.google.com/github/atulpatil2228/Pw_All_Assignment/blob/main/Functions_and_Ops_assignment.ipynb\" target=\"_parent\"><img src=\"https://colab.research.google.com/assets/colab-badge.svg\" alt=\"Open In Colab\"/></a>"
      ]
    },
    {
      "cell_type": "code",
      "execution_count": null,
      "metadata": {
        "id": "CYVc2vrst1mn"
      },
      "outputs": [],
      "source": [
        "## 1] Explain the importance of Functions?\n",
        "def big(name):\n",
        "  print(f\"hello {name}\")\n",
        "\n",
        "## instead of repeating code we can use the above function and type any \"name\" so the problem is small.\n",
        " # we can n number of names so that it can become easy to do\n"
      ]
    },
    {
      "cell_type": "code",
      "source": [
        "big(\"Atul Patil \")"
      ],
      "metadata": {
        "colab": {
          "base_uri": "https://localhost:8080/"
        },
        "id": "wf2oUyfyvSBg",
        "outputId": "2d8dcf8b-ded4-4ac0-ae72-14eca33f9e2c"
      },
      "execution_count": null,
      "outputs": [
        {
          "output_type": "stream",
          "name": "stdout",
          "text": [
            "hello Atul Patil \n"
          ]
        }
      ]
    },
    {
      "cell_type": "code",
      "source": [
        "big(\"Abhi\")"
      ],
      "metadata": {
        "colab": {
          "base_uri": "https://localhost:8080/"
        },
        "id": "nVyn0wcGvc8a",
        "outputId": "79dc3d1a-ed68-4211-d3a9-36e81dd0abb5"
      },
      "execution_count": null,
      "outputs": [
        {
          "output_type": "stream",
          "name": "stdout",
          "text": [
            "hello Abhi\n"
          ]
        }
      ]
    },
    {
      "cell_type": "code",
      "source": [],
      "metadata": {
        "id": "XLU6wnWvxGDO"
      },
      "execution_count": null,
      "outputs": []
    },
    {
      "cell_type": "code",
      "source": [
        "## 2]  Write a basic function to greet students ?\n",
        "\n",
        "def greetings(name):\n",
        "  print(f\" Welcome to the financial year 2023-24  of class 10th std {name} \" )\n"
      ],
      "metadata": {
        "id": "yCXbcxGLxGA3"
      },
      "execution_count": null,
      "outputs": []
    },
    {
      "cell_type": "code",
      "source": [
        "greetings(\"Atul\")"
      ],
      "metadata": {
        "colab": {
          "base_uri": "https://localhost:8080/"
        },
        "id": "bfNRXkLFxF-g",
        "outputId": "f8d80619-170e-4e20-a566-bac68ccb819e"
      },
      "execution_count": null,
      "outputs": [
        {
          "output_type": "stream",
          "name": "stdout",
          "text": [
            " Welcome to the financial year 2023-24  of class 10th std Atul \n"
          ]
        }
      ]
    },
    {
      "cell_type": "code",
      "source": [
        "greetings(\"Ajay Sir\")"
      ],
      "metadata": {
        "colab": {
          "base_uri": "https://localhost:8080/"
        },
        "id": "IX8i6lUnxF8F",
        "outputId": "23def202-ce9d-42f4-8cd8-668e397557ca"
      },
      "execution_count": null,
      "outputs": [
        {
          "output_type": "stream",
          "name": "stdout",
          "text": [
            " Welcome to the financial year 2023-24  of class 10th std Ajay Sir \n"
          ]
        }
      ]
    },
    {
      "cell_type": "code",
      "source": [],
      "metadata": {
        "id": "BL_LVaPYxFyd"
      },
      "execution_count": null,
      "outputs": []
    },
    {
      "cell_type": "code",
      "source": [
        "##  3] What is the difference between print and return statements ?\n"
      ],
      "metadata": {
        "id": "T0_lKiL8xFvv"
      },
      "execution_count": null,
      "outputs": []
    },
    {
      "cell_type": "code",
      "source": [
        "## PRINT\n",
        "\n",
        "def welcome():\n",
        "  print(\"Welome to My World \")\n",
        "\n",
        "welcome()\n",
        " ## Here the functions just displays the message .You cannot store and reuse the message."
      ],
      "metadata": {
        "colab": {
          "base_uri": "https://localhost:8080/"
        },
        "id": "avyXIYdrvnaC",
        "outputId": "0b098f98-0852-48e0-fbde-0b8947715f1d"
      },
      "execution_count": null,
      "outputs": [
        {
          "output_type": "stream",
          "name": "stdout",
          "text": [
            "Welome to My World \n"
          ]
        }
      ]
    },
    {
      "cell_type": "code",
      "source": [
        "## RETURN\n",
        "def welcome():\n",
        "  return \"Welcome to my world\"\n",
        "\n",
        "greet = welcome()\n",
        "print(greet)\n",
        "\n",
        "## Here the functions return the value.\n",
        "# you can store t in a varaible and reuse it and u can change it."
      ],
      "metadata": {
        "colab": {
          "base_uri": "https://localhost:8080/"
        },
        "id": "oC2Lwjsm0auE",
        "outputId": "a71eab7e-1475-4fb0-cbc1-10ebc5fe212a"
      },
      "execution_count": null,
      "outputs": [
        {
          "output_type": "stream",
          "name": "stdout",
          "text": [
            "Welcome to my world\n"
          ]
        }
      ]
    },
    {
      "cell_type": "code",
      "source": [],
      "metadata": {
        "id": "l_w7BCOx0cc8"
      },
      "execution_count": null,
      "outputs": []
    },
    {
      "cell_type": "code",
      "source": [
        "## 4] What are *args and **kwargs  ?\n"
      ],
      "metadata": {
        "id": "TKCSFw3u2PyD"
      },
      "execution_count": null,
      "outputs": []
    },
    {
      "cell_type": "code",
      "source": [
        "## *args >> we can pass as many inputs we can  >> stands for  \"ARGUMENTS\"\n",
        "\n",
        "def student_details(*name):\n",
        "  for i in name :\n",
        "    print(f\"welcome to my kingdom {i}\")"
      ],
      "metadata": {
        "id": "wNMe4Frh2Pv3"
      },
      "execution_count": null,
      "outputs": []
    },
    {
      "cell_type": "code",
      "source": [
        "student_details(\"Atul\" ,\"Abhishek\",\"Rutuja\" ,\"Akshay\")"
      ],
      "metadata": {
        "colab": {
          "base_uri": "https://localhost:8080/"
        },
        "id": "GMRJW22Q5OQq",
        "outputId": "03f2c417-66df-461d-c1e0-e81a6e372500"
      },
      "execution_count": null,
      "outputs": [
        {
          "output_type": "stream",
          "name": "stdout",
          "text": [
            "welcome to my kingdom Atul\n",
            "welcome to my kingdom Abhishek\n",
            "welcome to my kingdom Rutuja\n",
            "welcome to my kingdom Akshay\n"
          ]
        }
      ]
    },
    {
      "cell_type": "code",
      "source": [
        "## **kwargs >> stands for \"KEYWORD ARGUMENT\" >> collects argument in the form of \"DICTIONARY\""
      ],
      "metadata": {
        "id": "dOcL1_EQ5htc"
      },
      "execution_count": null,
      "outputs": []
    },
    {
      "cell_type": "code",
      "source": [
        "def student_details(name,**subjects):\n",
        "  print(f\"My name is {name}\")\n",
        "  return (f\"My favourite {subjects}  \")"
      ],
      "metadata": {
        "id": "W6N3k1jG55Nj"
      },
      "execution_count": null,
      "outputs": []
    },
    {
      "cell_type": "code",
      "source": [
        "student_details(name  = \"atul\" , subjects= \"Math, English, Psycology\")"
      ],
      "metadata": {
        "colab": {
          "base_uri": "https://localhost:8080/",
          "height": 54
        },
        "id": "dgZOYkyY7wb_",
        "outputId": "d6c66d68-5898-4686-e442-0907dc83aed8"
      },
      "execution_count": null,
      "outputs": [
        {
          "output_type": "stream",
          "name": "stdout",
          "text": [
            "My name is atul\n"
          ]
        },
        {
          "output_type": "execute_result",
          "data": {
            "text/plain": [
              "\"My favourite {'subjects': 'Math, English, Psycology'}  \""
            ],
            "application/vnd.google.colaboratory.intrinsic+json": {
              "type": "string"
            }
          },
          "metadata": {},
          "execution_count": 56
        }
      ]
    },
    {
      "cell_type": "code",
      "source": [],
      "metadata": {
        "id": "Cp1ebpPO8F1h"
      },
      "execution_count": null,
      "outputs": []
    },
    {
      "cell_type": "code",
      "source": [
        "## 5] Explain the iterator function ?\n",
        "# An iterator is like a remote control that gives you one item at a time from a collection[STRING OR  LIST ].\n",
        "## it goes to item one by one\n",
        "\n"
      ],
      "metadata": {
        "id": "LJWSoQeR9_9q"
      },
      "execution_count": null,
      "outputs": []
    },
    {
      "cell_type": "code",
      "source": [
        "## FOR LOOP (iterator function)\n",
        "\n",
        "for i in range(1,10):\n",
        "  print(i)\n"
      ],
      "metadata": {
        "colab": {
          "base_uri": "https://localhost:8080/"
        },
        "id": "CJLoF30Y9_7S",
        "outputId": "81736499-6cf9-4919-825c-4a305e730fd1"
      },
      "execution_count": null,
      "outputs": [
        {
          "output_type": "stream",
          "name": "stdout",
          "text": [
            "1\n",
            "2\n",
            "3\n",
            "4\n",
            "5\n",
            "6\n",
            "7\n",
            "8\n",
            "9\n"
          ]
        }
      ]
    },
    {
      "cell_type": "code",
      "source": [
        "songs = [\"Song1\", \"Song2\", \"Song3\"]\n",
        "\n",
        "\n",
        "player = iter(songs)\n",
        "\n",
        "\n"
      ],
      "metadata": {
        "id": "zOSaa-d09_40"
      },
      "execution_count": null,
      "outputs": []
    },
    {
      "cell_type": "code",
      "source": [
        "print(next(player))"
      ],
      "metadata": {
        "colab": {
          "base_uri": "https://localhost:8080/"
        },
        "id": "QbkFCO9SHFeL",
        "outputId": "50b619df-4707-4f8f-c5ac-b763f379a935"
      },
      "execution_count": null,
      "outputs": [
        {
          "output_type": "stream",
          "name": "stdout",
          "text": [
            "Song1\n"
          ]
        }
      ]
    },
    {
      "cell_type": "code",
      "source": [
        "print(next(player))"
      ],
      "metadata": {
        "colab": {
          "base_uri": "https://localhost:8080/"
        },
        "id": "85XHh-EyHHW6",
        "outputId": "ab8bec15-5436-44fd-9402-6df853c0588b"
      },
      "execution_count": null,
      "outputs": [
        {
          "output_type": "stream",
          "name": "stdout",
          "text": [
            "Song2\n"
          ]
        }
      ]
    },
    {
      "cell_type": "code",
      "source": [
        "print(next(player))"
      ],
      "metadata": {
        "colab": {
          "base_uri": "https://localhost:8080/"
        },
        "id": "JcM1ASjxHMdB",
        "outputId": "43421b72-a6e5-4e79-9259-f3640defe35a"
      },
      "execution_count": null,
      "outputs": [
        {
          "output_type": "stream",
          "name": "stdout",
          "text": [
            "Song3\n"
          ]
        }
      ]
    },
    {
      "cell_type": "code",
      "source": [
        "print(next(player)) ## Here the iteratio has been stopped because only 3 songs were there"
      ],
      "metadata": {
        "colab": {
          "base_uri": "https://localhost:8080/",
          "height": 145
        },
        "id": "Eqi4J_8aHXow",
        "outputId": "7a686688-e653-4922-bd0e-33a0499927f0"
      },
      "execution_count": null,
      "outputs": [
        {
          "output_type": "error",
          "ename": "StopIteration",
          "evalue": "",
          "traceback": [
            "\u001b[0;31m---------------------------------------------------------------------------\u001b[0m",
            "\u001b[0;31mStopIteration\u001b[0m                             Traceback (most recent call last)",
            "\u001b[0;32m<ipython-input-13-5e993144afac>\u001b[0m in \u001b[0;36m<cell line: 0>\u001b[0;34m()\u001b[0m\n\u001b[0;32m----> 1\u001b[0;31m \u001b[0mprint\u001b[0m\u001b[0;34m(\u001b[0m\u001b[0mnext\u001b[0m\u001b[0;34m(\u001b[0m\u001b[0mplayer\u001b[0m\u001b[0;34m)\u001b[0m\u001b[0;34m)\u001b[0m \u001b[0;31m## Here the iteratio has been stopped because only 3 songs were there\u001b[0m\u001b[0;34m\u001b[0m\u001b[0;34m\u001b[0m\u001b[0m\n\u001b[0m",
            "\u001b[0;31mStopIteration\u001b[0m: "
          ]
        }
      ]
    },
    {
      "cell_type": "code",
      "source": [],
      "metadata": {
        "id": "L5DRBSWAHYO1"
      },
      "execution_count": null,
      "outputs": []
    },
    {
      "cell_type": "code",
      "source": [
        "## 6] Write a code that generates the squares of numbers from 1 to n using a generator"
      ],
      "metadata": {
        "id": "uNzBD5HeHnrr"
      },
      "execution_count": null,
      "outputs": []
    },
    {
      "cell_type": "code",
      "source": [
        "def square_no(n):\n",
        "  for i in range(1 ,n+1):\n",
        "    yield i*i"
      ],
      "metadata": {
        "id": "6I_isiZ6HniF"
      },
      "execution_count": null,
      "outputs": []
    },
    {
      "cell_type": "code",
      "source": [
        "a = square_no(4)\n",
        "for sq in a:\n",
        "  print(sq)"
      ],
      "metadata": {
        "colab": {
          "base_uri": "https://localhost:8080/"
        },
        "id": "I1ILS4ZuIwtF",
        "outputId": "ad1a7ea8-d164-417f-e3da-cdbe7456b77d"
      },
      "execution_count": null,
      "outputs": [
        {
          "output_type": "stream",
          "name": "stdout",
          "text": [
            "1\n",
            "4\n",
            "9\n",
            "16\n"
          ]
        }
      ]
    },
    {
      "cell_type": "code",
      "source": [],
      "metadata": {
        "id": "Z3ft8P_PJRnH"
      },
      "execution_count": null,
      "outputs": []
    },
    {
      "cell_type": "code",
      "source": [
        "## 7] Write a code that generates palindromic numbers up to n using a generator ?(This was little tuff question for me)"
      ],
      "metadata": {
        "id": "7GvpQC1iKHzc"
      },
      "execution_count": null,
      "outputs": []
    },
    {
      "cell_type": "code",
      "source": [
        "def generate_palindrome_no(n):\n",
        "  for i in range(1,n+1):\n",
        "    if str(i) == str(i)[::-1]:\n",
        "      yield i"
      ],
      "metadata": {
        "id": "HH0TELZmKo8I"
      },
      "execution_count": null,
      "outputs": []
    },
    {
      "cell_type": "code",
      "source": [
        "n = 200\n",
        "p = generate_palindrome_no(n)\n",
        "for i in p:\n",
        "  print(i)\n"
      ],
      "metadata": {
        "colab": {
          "base_uri": "https://localhost:8080/"
        },
        "id": "OyjbgoRIMWlI",
        "outputId": "c90e57a8-a3e0-4582-f6d8-9d68c4aa9039"
      },
      "execution_count": null,
      "outputs": [
        {
          "output_type": "stream",
          "name": "stdout",
          "text": [
            "1\n",
            "2\n",
            "3\n",
            "4\n",
            "5\n",
            "6\n",
            "7\n",
            "8\n",
            "9\n",
            "11\n",
            "22\n",
            "33\n",
            "44\n",
            "55\n",
            "66\n",
            "77\n",
            "88\n",
            "99\n",
            "101\n",
            "111\n",
            "121\n",
            "131\n",
            "141\n",
            "151\n",
            "161\n",
            "171\n",
            "181\n",
            "191\n"
          ]
        }
      ]
    },
    {
      "cell_type": "code",
      "source": [],
      "metadata": {
        "id": "zxXklRyOMj1R"
      },
      "execution_count": null,
      "outputs": []
    },
    {
      "cell_type": "code",
      "source": [
        "## 8] Write a code that generates even numbers from 2 to n using a generator0"
      ],
      "metadata": {
        "id": "Md3F_j7xNY38"
      },
      "execution_count": null,
      "outputs": []
    },
    {
      "cell_type": "code",
      "source": [
        "def even_no(n):\n",
        "  for i in range(1,1+n):\n",
        "    if i % 2 == 0:\n",
        "      yield  i"
      ],
      "metadata": {
        "id": "Lvk9VqCNNYuZ"
      },
      "execution_count": null,
      "outputs": []
    },
    {
      "cell_type": "code",
      "source": [
        "n = 30\n",
        "E_no = even_no(n)\n",
        "\n",
        "for i in E_no:\n",
        "  print(i)"
      ],
      "metadata": {
        "colab": {
          "base_uri": "https://localhost:8080/"
        },
        "id": "k8valcaHVqg5",
        "outputId": "9bb7ba12-9037-4994-efff-a0cc76871fdc"
      },
      "execution_count": null,
      "outputs": [
        {
          "output_type": "stream",
          "name": "stdout",
          "text": [
            "2\n",
            "4\n",
            "6\n",
            "8\n",
            "10\n",
            "12\n",
            "14\n",
            "16\n",
            "18\n",
            "20\n",
            "22\n",
            "24\n",
            "26\n",
            "28\n",
            "30\n"
          ]
        }
      ]
    },
    {
      "cell_type": "code",
      "source": [
        "## Did the same quaestion using return function\n",
        "def generate_even_no(n):\n",
        "  even_numbers = []\n",
        "  for i in range(2,2+n):\n",
        "    if i % 2 == 0 :\n",
        "      even_numbers.append(i)\n",
        "  return even_numbers\n",
        "\n",
        "n = 20\n",
        "evens = generate_even_no(n)\n",
        "print(evens)"
      ],
      "metadata": {
        "colab": {
          "base_uri": "https://localhost:8080/"
        },
        "id": "Ot0ipa8LVwZ2",
        "outputId": "ab74e394-7c83-4fc7-e5fb-056412ba1c57"
      },
      "execution_count": null,
      "outputs": [
        {
          "output_type": "stream",
          "name": "stdout",
          "text": [
            "[2, 4, 6, 8, 10, 12, 14, 16, 18, 20]\n"
          ]
        }
      ]
    },
    {
      "cell_type": "code",
      "source": [
        "## 9]  write a code that generates powers of two up to n using a generator?\n",
        "def powers_of_two(n):\n",
        "    i = 1\n",
        "    while i <= n:\n",
        "        yield i\n",
        "        i *= 2\n",
        "\n",
        "n = 20\n",
        "for val in powers_of_two(n):\n",
        "    print(val)\n",
        "\n"
      ],
      "metadata": {
        "colab": {
          "base_uri": "https://localhost:8080/"
        },
        "id": "2lnCZKVfYdxN",
        "outputId": "b15b63a1-b9db-4f10-ff95-1b685bf21fdd"
      },
      "execution_count": null,
      "outputs": [
        {
          "output_type": "stream",
          "name": "stdout",
          "text": [
            "1\n",
            "2\n",
            "4\n",
            "8\n",
            "16\n"
          ]
        }
      ]
    },
    {
      "cell_type": "code",
      "source": [],
      "metadata": {
        "id": "GZTZsN8Ar6cc"
      },
      "execution_count": null,
      "outputs": []
    },
    {
      "cell_type": "code",
      "source": [],
      "metadata": {
        "id": "jfWWoafEr6n_"
      },
      "execution_count": null,
      "outputs": []
    },
    {
      "cell_type": "code",
      "source": [
        "## 10] Write a code that generates prime numbers up to n using a generator (little bit tuff to create)"
      ],
      "metadata": {
        "id": "RLfmH5irXMkz"
      },
      "execution_count": null,
      "outputs": []
    },
    {
      "cell_type": "code",
      "source": [
        "def Prime_no(n):\n",
        "  prime_numbers = []\n",
        "  for i in range (2, 2+n):\n",
        "    is_prime = True\n",
        "    for j in range(2,int(i**0.5) , +1 ) :\n",
        "      if i % j == 0:\n",
        "        is_prime = False\n",
        "    if is_prime:\n",
        "      prime_numbers.append(i)\n",
        "  return prime_numbers\n",
        "\n",
        "n = 40\n",
        "prime = Prime_no(n)\n",
        "print(prime)\n"
      ],
      "metadata": {
        "colab": {
          "base_uri": "https://localhost:8080/"
        },
        "id": "xto5UCq_ZVJv",
        "outputId": "6c129082-1d5a-4ef9-dd9e-83f37e822092"
      },
      "execution_count": null,
      "outputs": [
        {
          "output_type": "stream",
          "name": "stdout",
          "text": [
            "[2, 3, 4, 5, 6, 7, 8, 9, 11, 13, 15, 17, 19, 23, 25, 29, 31, 35, 37, 41]\n"
          ]
        }
      ]
    },
    {
      "cell_type": "code",
      "source": [
        "## 11] Write a code that uses a lambda function to calculate the sum of two numbers?"
      ],
      "metadata": {
        "id": "Bd4tTlXPaWFz"
      },
      "execution_count": null,
      "outputs": []
    },
    {
      "cell_type": "code",
      "source": [
        "sum_of_two = lambda x,y : x+y\n",
        "print(sum_of_two(33,44))"
      ],
      "metadata": {
        "colab": {
          "base_uri": "https://localhost:8080/"
        },
        "id": "Xuq_PLMrdQGS",
        "outputId": "36b0a81f-5a6d-4e74-f0d3-b91f41104039"
      },
      "execution_count": null,
      "outputs": [
        {
          "output_type": "stream",
          "name": "stdout",
          "text": [
            "77\n"
          ]
        }
      ]
    },
    {
      "cell_type": "code",
      "source": [],
      "metadata": {
        "id": "eH2bfCWeeE0S"
      },
      "execution_count": null,
      "outputs": []
    },
    {
      "cell_type": "code",
      "source": [
        "## 12] Write a code that uses a lambda function to calculate the square of a given number ?"
      ],
      "metadata": {
        "id": "ZrIkkfiEeQlr"
      },
      "execution_count": null,
      "outputs": []
    },
    {
      "cell_type": "code",
      "source": [
        "sq_no = lambda x : x*x"
      ],
      "metadata": {
        "id": "AjCBtcaxeRgR"
      },
      "execution_count": null,
      "outputs": []
    },
    {
      "cell_type": "code",
      "source": [
        "sq_no(8)"
      ],
      "metadata": {
        "colab": {
          "base_uri": "https://localhost:8080/"
        },
        "id": "jyu7h_nhogNk",
        "outputId": "e3a41cdc-40c0-48e5-c967-317e2a333670"
      },
      "execution_count": null,
      "outputs": [
        {
          "output_type": "execute_result",
          "data": {
            "text/plain": [
              "64"
            ]
          },
          "metadata": {},
          "execution_count": 107
        }
      ]
    },
    {
      "cell_type": "code",
      "source": [],
      "metadata": {
        "id": "XtKQ3kYaohuA"
      },
      "execution_count": null,
      "outputs": []
    },
    {
      "cell_type": "code",
      "source": [
        "## 13] Write a code that uses a lambda function to check whether a given number is even or odd ?"
      ],
      "metadata": {
        "id": "FMoN7wWnor-t"
      },
      "execution_count": null,
      "outputs": []
    },
    {
      "cell_type": "code",
      "source": [
        "number = lambda x : \"EVEN\" if x%2 == 0  else \"ODD\""
      ],
      "metadata": {
        "id": "z5U1Ox90o4kW"
      },
      "execution_count": null,
      "outputs": []
    },
    {
      "cell_type": "code",
      "source": [
        "number(22)"
      ],
      "metadata": {
        "colab": {
          "base_uri": "https://localhost:8080/",
          "height": 36
        },
        "id": "13M9-Ax8qlfp",
        "outputId": "ff56f083-0bfe-4029-f561-b91fbc7fd13a"
      },
      "execution_count": null,
      "outputs": [
        {
          "output_type": "execute_result",
          "data": {
            "text/plain": [
              "'EVEN'"
            ],
            "application/vnd.google.colaboratory.intrinsic+json": {
              "type": "string"
            }
          },
          "metadata": {},
          "execution_count": 114
        }
      ]
    },
    {
      "cell_type": "code",
      "source": [
        "number(35)"
      ],
      "metadata": {
        "colab": {
          "base_uri": "https://localhost:8080/",
          "height": 36
        },
        "id": "8QOAFr34qzJp",
        "outputId": "1569fb69-69a5-4718-ec04-1bb9f664d4a7"
      },
      "execution_count": null,
      "outputs": [
        {
          "output_type": "execute_result",
          "data": {
            "text/plain": [
              "'ODD'"
            ],
            "application/vnd.google.colaboratory.intrinsic+json": {
              "type": "string"
            }
          },
          "metadata": {},
          "execution_count": 116
        }
      ]
    },
    {
      "cell_type": "code",
      "source": [
        "## 15] Write a code that uses a lambda function to concatenate two strings?\n",
        "\n",
        "A = lambda x ,y :  x+y\n"
      ],
      "metadata": {
        "id": "PjWHb-xZrSQj"
      },
      "execution_count": null,
      "outputs": []
    },
    {
      "cell_type": "code",
      "source": [
        "A(\"Atul\", \"Patil\")"
      ],
      "metadata": {
        "colab": {
          "base_uri": "https://localhost:8080/",
          "height": 36
        },
        "id": "SAObdVh5nkSR",
        "outputId": "53bd8986-b41f-449a-d02a-e20a5d081c7f"
      },
      "execution_count": null,
      "outputs": [
        {
          "output_type": "execute_result",
          "data": {
            "text/plain": [
              "'AtulPatil'"
            ],
            "application/vnd.google.colaboratory.intrinsic+json": {
              "type": "string"
            }
          },
          "metadata": {},
          "execution_count": 4
        }
      ]
    },
    {
      "cell_type": "code",
      "source": [],
      "metadata": {
        "id": "JupQCni6oBwK"
      },
      "execution_count": null,
      "outputs": []
    },
    {
      "cell_type": "code",
      "source": [
        "## 16] Write a code that uses a lambda function to find the maximum of three given numbers ?\n",
        "\n",
        "A = lambda x,y,z : max(x,y,z)"
      ],
      "metadata": {
        "id": "Deh958AgolhP"
      },
      "execution_count": null,
      "outputs": []
    },
    {
      "cell_type": "code",
      "source": [
        "A(22,33,55)"
      ],
      "metadata": {
        "colab": {
          "base_uri": "https://localhost:8080/"
        },
        "id": "1NJd7Go2qBy-",
        "outputId": "7ca5ac5a-12d8-4a3a-d6ad-0eaae9f06c27"
      },
      "execution_count": null,
      "outputs": [
        {
          "output_type": "execute_result",
          "data": {
            "text/plain": [
              "55"
            ]
          },
          "metadata": {},
          "execution_count": 8
        }
      ]
    },
    {
      "cell_type": "code",
      "source": [],
      "metadata": {
        "id": "nDO9XljEq85P"
      },
      "execution_count": null,
      "outputs": []
    },
    {
      "cell_type": "code",
      "source": [
        "## 17] Write a code that generates the squares of even numbers from a given list?"
      ],
      "metadata": {
        "id": "TF3yM2G8qFQi"
      },
      "execution_count": null,
      "outputs": []
    },
    {
      "cell_type": "code",
      "source": [
        "l = [1,2,3,4]\n",
        "def square(l):\n",
        "  sq = []\n",
        "  for i in l:\n",
        "    sq.append(i**2)\n",
        "  return sq"
      ],
      "metadata": {
        "id": "Ote1UoyKrHp7"
      },
      "execution_count": null,
      "outputs": []
    },
    {
      "cell_type": "code",
      "source": [
        "square(l)"
      ],
      "metadata": {
        "colab": {
          "base_uri": "https://localhost:8080/"
        },
        "id": "WAyHKO1KrZlj",
        "outputId": "4e841ead-e10c-4048-c4a7-3d9a0c1865aa"
      },
      "execution_count": null,
      "outputs": [
        {
          "output_type": "execute_result",
          "data": {
            "text/plain": [
              "[1, 4, 9, 16]"
            ]
          },
          "metadata": {},
          "execution_count": 15
        }
      ]
    },
    {
      "cell_type": "code",
      "source": [],
      "metadata": {
        "id": "sHOSK5tzrahM"
      },
      "execution_count": null,
      "outputs": []
    },
    {
      "cell_type": "code",
      "source": [
        "# 18]Write a code that calculates the product of positive numbers from a given list?\n",
        "l = [1,2,-3,4,0]\n",
        "\n",
        "def product_of_positives(l):\n",
        "  product = 1\n",
        "  for i in l:\n",
        "    if i > 0 :\n",
        "      product *=i\n",
        "  return product\n",
        "\n",
        "\n",
        "print(product_of_positives(l))\n",
        "\n",
        "\n"
      ],
      "metadata": {
        "colab": {
          "base_uri": "https://localhost:8080/"
        },
        "id": "rkKa3Ed5rvrL",
        "outputId": "6fd1cf07-0443-424b-c375-ce2f150a9e21"
      },
      "execution_count": null,
      "outputs": [
        {
          "output_type": "stream",
          "name": "stdout",
          "text": [
            "8\n"
          ]
        }
      ]
    },
    {
      "cell_type": "code",
      "source": [],
      "metadata": {
        "id": "O9RSn6_MsMoP"
      },
      "execution_count": null,
      "outputs": []
    },
    {
      "cell_type": "code",
      "source": [
        "## 19] Write a code that doubles the values of odd numbers from a given list?\n",
        "l = [1,2,3,4,5]\n",
        "def double_odds(l):\n",
        "  Result = []\n",
        "  for i in l :\n",
        "    if i % 2 == 1 :\n",
        "      Result.append(i*2)\n",
        "    else :\n",
        "      Result.append(i)\n",
        "  return Result\n",
        "\n",
        "print(double_odds(l))\n",
        "\n"
      ],
      "metadata": {
        "colab": {
          "base_uri": "https://localhost:8080/"
        },
        "id": "Uj5_vA4jsO6Y",
        "outputId": "054b2ef3-ca5f-4efb-d993-6e1c7b75c9dd"
      },
      "execution_count": null,
      "outputs": [
        {
          "output_type": "stream",
          "name": "stdout",
          "text": [
            "[2, 2, 6, 4, 10]\n"
          ]
        }
      ]
    },
    {
      "cell_type": "code",
      "source": [],
      "metadata": {
        "id": "oSUwVPkZsXKf"
      },
      "execution_count": null,
      "outputs": []
    },
    {
      "cell_type": "code",
      "source": [
        "## 20] Write a code that calculates the sum of cubes of numbers from a given list?\n",
        "l = [1,2,3,4,5]\n",
        "def cube(self):\n",
        "\n",
        "  Result = []\n",
        "  for i in l :\n",
        "    Result.append(i ** 3)\n",
        "  return Result\n",
        "\n",
        "print(cube(l))"
      ],
      "metadata": {
        "colab": {
          "base_uri": "https://localhost:8080/"
        },
        "id": "rSmeySpd8KCE",
        "outputId": "7a00bc2c-5e33-459e-9b83-639b5ba81b34"
      },
      "execution_count": null,
      "outputs": [
        {
          "output_type": "stream",
          "name": "stdout",
          "text": [
            "[1, 8, 27, 64, 125]\n"
          ]
        }
      ]
    },
    {
      "cell_type": "code",
      "source": [],
      "metadata": {
        "id": "lwmPtGBTBhJe"
      },
      "execution_count": null,
      "outputs": []
    },
    {
      "cell_type": "code",
      "source": [
        "## 21] Write a code that filters out prime numbers from a given list?\n",
        "def is_prime(n):\n",
        "    if n < 2:\n",
        "        return False\n",
        "    for i in range(2, int(n**0.5) + 1):\n",
        "        if n % i == 0:\n",
        "            return False\n",
        "    return True\n",
        "\n",
        "l = [1, 2, 3, 4, 5, 6]\n",
        "primes = list(filter(is_prime, l))\n",
        "print(primes)\n",
        "\n",
        "\n"
      ],
      "metadata": {
        "id": "9xHogW8UBjDR",
        "colab": {
          "base_uri": "https://localhost:8080/"
        },
        "outputId": "a9d8d9ff-b331-420a-bad7-fc5aae2b39a8"
      },
      "execution_count": null,
      "outputs": [
        {
          "output_type": "stream",
          "name": "stdout",
          "text": [
            "[2, 3, 5]\n"
          ]
        }
      ]
    },
    {
      "cell_type": "code",
      "source": [],
      "metadata": {
        "id": "21Y1szDmDFnP"
      },
      "execution_count": null,
      "outputs": []
    },
    {
      "cell_type": "code",
      "source": [
        "## 22]  Write a code that uses a lambda function to calculate the sum of two numbers?\n",
        "\n",
        "sum_of_two = lambda x,y : x+y"
      ],
      "metadata": {
        "id": "l7mWI1IHDKev"
      },
      "execution_count": null,
      "outputs": []
    },
    {
      "cell_type": "code",
      "source": [
        "sum_of_two(88,99)"
      ],
      "metadata": {
        "colab": {
          "base_uri": "https://localhost:8080/"
        },
        "id": "m0gWsFd7GIby",
        "outputId": "abc0fb3c-9363-406f-8b3f-5a71121290a4"
      },
      "execution_count": null,
      "outputs": [
        {
          "output_type": "execute_result",
          "data": {
            "text/plain": [
              "187"
            ]
          },
          "metadata": {},
          "execution_count": 33
        }
      ]
    },
    {
      "cell_type": "code",
      "source": [],
      "metadata": {
        "id": "C69UU3mLOEMv"
      },
      "execution_count": null,
      "outputs": []
    },
    {
      "cell_type": "code",
      "source": [
        "## 23]  Write a code that uses a lambda function to calculate the square of a given number?\n",
        "\n",
        "sq_no = lambda x : x**2"
      ],
      "metadata": {
        "id": "Cy_Ue_XjOEKV"
      },
      "execution_count": null,
      "outputs": []
    },
    {
      "cell_type": "code",
      "source": [
        "sq_no(77)"
      ],
      "metadata": {
        "colab": {
          "base_uri": "https://localhost:8080/"
        },
        "id": "WWXcwp0jOEHk",
        "outputId": "2edd6e99-90f9-48b6-a16a-16620d73e517"
      },
      "execution_count": null,
      "outputs": [
        {
          "output_type": "execute_result",
          "data": {
            "text/plain": [
              "5929"
            ]
          },
          "metadata": {},
          "execution_count": 39
        }
      ]
    },
    {
      "cell_type": "code",
      "source": [],
      "metadata": {
        "id": "ebJu2690OEA9"
      },
      "execution_count": null,
      "outputs": []
    },
    {
      "cell_type": "code",
      "source": [
        "## 24]  Write a code that uses a lambda function to check whether a given number is even or odd?\n",
        "\n",
        "check_no = lambda x : \"EVEN\" if x%2==0 else \"ODD\""
      ],
      "metadata": {
        "id": "5AzNX9LpOD-V"
      },
      "execution_count": null,
      "outputs": []
    },
    {
      "cell_type": "code",
      "source": [
        "check_no(75)"
      ],
      "metadata": {
        "colab": {
          "base_uri": "https://localhost:8080/",
          "height": 36
        },
        "id": "jHDGrKwuGM3K",
        "outputId": "39ae9e48-93e7-4429-91e1-495c4c0bd415"
      },
      "execution_count": null,
      "outputs": [
        {
          "output_type": "execute_result",
          "data": {
            "text/plain": [
              "'ODD'"
            ],
            "application/vnd.google.colaboratory.intrinsic+json": {
              "type": "string"
            }
          },
          "metadata": {},
          "execution_count": 41
        }
      ]
    },
    {
      "cell_type": "code",
      "source": [
        "check_no(54)"
      ],
      "metadata": {
        "colab": {
          "base_uri": "https://localhost:8080/",
          "height": 36
        },
        "id": "45Xvsw6KPA7P",
        "outputId": "c6c8631a-2d06-4027-d150-0f236cb3d46e"
      },
      "execution_count": null,
      "outputs": [
        {
          "output_type": "execute_result",
          "data": {
            "text/plain": [
              "'EVEN'"
            ],
            "application/vnd.google.colaboratory.intrinsic+json": {
              "type": "string"
            }
          },
          "metadata": {},
          "execution_count": 42
        }
      ]
    },
    {
      "cell_type": "code",
      "source": [],
      "metadata": {
        "id": "CT5oOajFPDDr"
      },
      "execution_count": null,
      "outputs": []
    },
    {
      "cell_type": "code",
      "source": [
        "##25] Write a code that uses a lambda function to concatenate two strings?\n",
        "con_cat = lambda x,y : x+ y"
      ],
      "metadata": {
        "id": "TxroEm-NPIMu"
      },
      "execution_count": null,
      "outputs": []
    },
    {
      "cell_type": "code",
      "source": [
        "con_cat(\"atul,\" ,\"patil\")"
      ],
      "metadata": {
        "colab": {
          "base_uri": "https://localhost:8080/",
          "height": 36
        },
        "id": "57ljxHeyPXi0",
        "outputId": "4131ea4e-ae55-4d31-8cba-ecec630dc874"
      },
      "execution_count": null,
      "outputs": [
        {
          "output_type": "execute_result",
          "data": {
            "text/plain": [
              "'atul,patil'"
            ],
            "application/vnd.google.colaboratory.intrinsic+json": {
              "type": "string"
            }
          },
          "metadata": {},
          "execution_count": 47
        }
      ]
    },
    {
      "cell_type": "code",
      "source": [],
      "metadata": {
        "id": "CUeCY9YzPcIZ"
      },
      "execution_count": null,
      "outputs": []
    },
    {
      "cell_type": "code",
      "source": [
        "## 26]  Write a code that uses a lambda function to find the maximum of three given numbers?\n",
        "\n",
        "max_no = lambda x,y,z : max(x,y,z)"
      ],
      "metadata": {
        "id": "ULNz7EUNPsOo"
      },
      "execution_count": null,
      "outputs": []
    },
    {
      "cell_type": "code",
      "source": [
        "max_no(22,4,56)\n"
      ],
      "metadata": {
        "colab": {
          "base_uri": "https://localhost:8080/"
        },
        "id": "orcyYmu9PsKy",
        "outputId": "994f8256-df35-4812-be9d-ec6f699410cc"
      },
      "execution_count": null,
      "outputs": [
        {
          "output_type": "execute_result",
          "data": {
            "text/plain": [
              "56"
            ]
          },
          "metadata": {},
          "execution_count": 51
        }
      ]
    },
    {
      "cell_type": "code",
      "source": [
        "## 27]  What is encapsulation in OOP?\n",
        "##28]Explain the use of access modifiers in Python classes"
      ],
      "metadata": {
        "id": "7z8nZj0DQFBU"
      },
      "execution_count": null,
      "outputs": []
    },
    {
      "cell_type": "code",
      "source": [
        "## Encapsulation >>> means hiding something\n",
        "## Bundling of data and methods\n",
        "## accsess modifier >> public,protected ,private"
      ],
      "metadata": {
        "id": "-GR5gAJfVA82"
      },
      "execution_count": null,
      "outputs": []
    },
    {
      "cell_type": "code",
      "source": [
        "## Public >> accessible from anywhere from outside/inside\n",
        "class Student:\n",
        "  def __init__(self,name,degree):\n",
        "    self.name = name\n",
        "    self.degree = degree\n"
      ],
      "metadata": {
        "id": "gQzTGblEhEkL"
      },
      "execution_count": null,
      "outputs": []
    },
    {
      "cell_type": "code",
      "source": [
        "stud = Student(\"Atul\",\"B.sc\")"
      ],
      "metadata": {
        "id": "kntnRxz0igtT"
      },
      "execution_count": null,
      "outputs": []
    },
    {
      "cell_type": "code",
      "source": [
        "stud.degree"
      ],
      "metadata": {
        "colab": {
          "base_uri": "https://localhost:8080/",
          "height": 36
        },
        "id": "qlmTa_zkij6p",
        "outputId": "503ab07a-112e-4d92-bc68-01f12400c68f"
      },
      "execution_count": null,
      "outputs": [
        {
          "output_type": "execute_result",
          "data": {
            "text/plain": [
              "'B.sc'"
            ],
            "application/vnd.google.colaboratory.intrinsic+json": {
              "type": "string"
            }
          },
          "metadata": {},
          "execution_count": 58
        }
      ]
    },
    {
      "cell_type": "code",
      "source": [
        "stud.name"
      ],
      "metadata": {
        "colab": {
          "base_uri": "https://localhost:8080/",
          "height": 36
        },
        "id": "DSGah5q7ixit",
        "outputId": "86587d0d-67fe-4d76-87f3-d4c0f0be40cd"
      },
      "execution_count": null,
      "outputs": [
        {
          "output_type": "execute_result",
          "data": {
            "text/plain": [
              "'Atul'"
            ],
            "application/vnd.google.colaboratory.intrinsic+json": {
              "type": "string"
            }
          },
          "metadata": {},
          "execution_count": 59
        }
      ]
    },
    {
      "cell_type": "code",
      "source": [
        "stud.degree = \"P.hd\" ## Here we can access any thing and change since it is publc"
      ],
      "metadata": {
        "id": "PSdii3ffizUX"
      },
      "execution_count": null,
      "outputs": []
    },
    {
      "cell_type": "code",
      "source": [
        "stud.degree\n"
      ],
      "metadata": {
        "colab": {
          "base_uri": "https://localhost:8080/",
          "height": 36
        },
        "id": "NvEzCe0wjMyJ",
        "outputId": "59423c17-112a-4305-eddf-9dfc6a23ec0d"
      },
      "execution_count": null,
      "outputs": [
        {
          "output_type": "execute_result",
          "data": {
            "text/plain": [
              "'P.hd'"
            ],
            "application/vnd.google.colaboratory.intrinsic+json": {
              "type": "string"
            }
          },
          "metadata": {},
          "execution_count": 63
        }
      ]
    },
    {
      "cell_type": "code",
      "source": [],
      "metadata": {
        "id": "wW6smwr9jOK1"
      },
      "execution_count": null,
      "outputs": []
    },
    {
      "cell_type": "code",
      "source": [
        "## private >> within the class only its accessible ,use two__ to make private\n",
        "\n",
        "class Student:\n",
        "  def __init__(self,name,degree):\n",
        "    self.name = name\n",
        "    self.__degree = degree"
      ],
      "metadata": {
        "id": "df5pM90EjyQQ"
      },
      "execution_count": null,
      "outputs": []
    },
    {
      "cell_type": "code",
      "source": [
        "stud1 = Student(\"Atul\" ,\"AI Specialist\")"
      ],
      "metadata": {
        "id": "VM6aa7pfkQjw"
      },
      "execution_count": null,
      "outputs": []
    },
    {
      "cell_type": "code",
      "source": [
        "stud1.degree ## hence we cannot acces this as it is private"
      ],
      "metadata": {
        "colab": {
          "base_uri": "https://localhost:8080/",
          "height": 145
        },
        "id": "b6s6LH8Okeih",
        "outputId": "ae841f4a-e7fb-46db-aae6-821c12100f51"
      },
      "execution_count": null,
      "outputs": [
        {
          "output_type": "error",
          "ename": "AttributeError",
          "evalue": "'Student' object has no attribute 'degree'",
          "traceback": [
            "\u001b[0;31m---------------------------------------------------------------------------\u001b[0m",
            "\u001b[0;31mAttributeError\u001b[0m                            Traceback (most recent call last)",
            "\u001b[0;32m<ipython-input-66-8e6e22e75ff2>\u001b[0m in \u001b[0;36m<cell line: 0>\u001b[0;34m()\u001b[0m\n\u001b[0;32m----> 1\u001b[0;31m \u001b[0mstud1\u001b[0m\u001b[0;34m.\u001b[0m\u001b[0mdegree\u001b[0m\u001b[0;34m\u001b[0m\u001b[0;34m\u001b[0m\u001b[0m\n\u001b[0m",
            "\u001b[0;31mAttributeError\u001b[0m: 'Student' object has no attribute 'degree'"
          ]
        }
      ]
    },
    {
      "cell_type": "code",
      "source": [
        "stud1.name"
      ],
      "metadata": {
        "colab": {
          "base_uri": "https://localhost:8080/",
          "height": 36
        },
        "id": "1VkrDEaqkhCS",
        "outputId": "088ba12c-172b-4f4c-fdfe-4a26fd69013a"
      },
      "execution_count": null,
      "outputs": [
        {
          "output_type": "execute_result",
          "data": {
            "text/plain": [
              "'Atul'"
            ],
            "application/vnd.google.colaboratory.intrinsic+json": {
              "type": "string"
            }
          },
          "metadata": {},
          "execution_count": 67
        }
      ]
    },
    {
      "cell_type": "code",
      "source": [
        "## protected > within the class and its sub class protected member can be accessed ,(_)\n",
        "\n",
        "class College:\n",
        "  def __init__(self):\n",
        "    self._college_name = 'PWskills'\n",
        "\n",
        "\n",
        "class Student(College):\n",
        "  def __init__(self,name):\n",
        "    self.name = name\n",
        "    College.__init__(self)\n",
        "\n",
        "  def show(self):\n",
        "    print('name' ,self.name,'colllege' ,self._college_name)\n"
      ],
      "metadata": {
        "id": "IhzPYyunkoFl"
      },
      "execution_count": null,
      "outputs": []
    },
    {
      "cell_type": "code",
      "source": [
        "stud = Student('atul')"
      ],
      "metadata": {
        "id": "865m4fE1lzt0"
      },
      "execution_count": null,
      "outputs": []
    },
    {
      "cell_type": "code",
      "source": [
        "stud.show()"
      ],
      "metadata": {
        "colab": {
          "base_uri": "https://localhost:8080/"
        },
        "id": "XDNDdM_jm97q",
        "outputId": "23a235e3-a35e-4672-a623-73a6132ef772"
      },
      "execution_count": null,
      "outputs": [
        {
          "output_type": "stream",
          "name": "stdout",
          "text": [
            "name atul colllege PWskills\n"
          ]
        }
      ]
    },
    {
      "cell_type": "code",
      "source": [
        "##Improves data security and integrity.\n",
        "\n",
        "## Allows controlled access through getter/setter methods.\n",
        "\n",
        "## Makes the code more modular and maintainable."
      ],
      "metadata": {
        "id": "SYNyEJsnm_2x"
      },
      "execution_count": null,
      "outputs": []
    },
    {
      "cell_type": "code",
      "source": [],
      "metadata": {
        "id": "NPmU2kGzM9Gu"
      },
      "execution_count": null,
      "outputs": []
    },
    {
      "cell_type": "code",
      "source": [
        "## 29] What is inheritance in OOP ?\n",
        "## inheritance >> refers to process of child recievig the properties of parent class"
      ],
      "metadata": {
        "id": "WLwawBsznLmW"
      },
      "execution_count": null,
      "outputs": []
    },
    {
      "cell_type": "code",
      "source": [
        "## single inhertiace >> when a class has only one parent class\n",
        "class Father:\n",
        "  def father_property(self):\n",
        "    print('This is my property')\n"
      ],
      "metadata": {
        "id": "enAnNM2uKjB-"
      },
      "execution_count": null,
      "outputs": []
    },
    {
      "cell_type": "code",
      "source": [
        "class Father :\n",
        "  def father_property(self):\n",
        "    print(\"This is my property\")"
      ],
      "metadata": {
        "id": "n2VRCHucLvS5"
      },
      "execution_count": null,
      "outputs": []
    },
    {
      "cell_type": "code",
      "source": [
        "class Son(Father):\n",
        "  def job(self):\n",
        "    print(\"son has also a job\")\n",
        "\n"
      ],
      "metadata": {
        "id": "pSazjt05MBIw"
      },
      "execution_count": null,
      "outputs": []
    },
    {
      "cell_type": "code",
      "source": [
        "child = Son()"
      ],
      "metadata": {
        "id": "IKssZj1aMJJ2"
      },
      "execution_count": null,
      "outputs": []
    },
    {
      "cell_type": "code",
      "source": [
        "child.father_property()"
      ],
      "metadata": {
        "colab": {
          "base_uri": "https://localhost:8080/"
        },
        "id": "zBCU6cipMTmx",
        "outputId": "83dc66be-bd2e-4557-df9f-5988b78734d3"
      },
      "execution_count": null,
      "outputs": [
        {
          "output_type": "stream",
          "name": "stdout",
          "text": [
            "This is my property\n"
          ]
        }
      ]
    },
    {
      "cell_type": "code",
      "source": [
        "\n",
        "child.job()"
      ],
      "metadata": {
        "colab": {
          "base_uri": "https://localhost:8080/"
        },
        "id": "IAv2xuIfMVNE",
        "outputId": "727e31e0-892a-4673-8208-c17c2e90100f"
      },
      "execution_count": null,
      "outputs": [
        {
          "output_type": "stream",
          "name": "stdout",
          "text": [
            "son has also a job\n"
          ]
        }
      ]
    },
    {
      "cell_type": "code",
      "source": [
        "## parent claass will not have acess to son class >> child class have acess of parent\n"
      ],
      "metadata": {
        "id": "8cT88S9fMc2R"
      },
      "execution_count": null,
      "outputs": []
    },
    {
      "cell_type": "code",
      "source": [],
      "metadata": {
        "id": "IzoiKplcNK86"
      },
      "execution_count": null,
      "outputs": []
    },
    {
      "cell_type": "code",
      "source": [
        "## 30]  Define polymorphism in OOP?\n",
        "##polymorphisim >> poly means many ,morphisim means forms/sates\n",
        "## refres to an object takig several forms depending on data\n",
        "\n"
      ],
      "metadata": {
        "id": "G1omBKJCM71i"
      },
      "execution_count": null,
      "outputs": []
    },
    {
      "cell_type": "code",
      "source": [
        "class Teacher_lecture:\n",
        "  def lec_info(self):\n",
        "    print('This is lec info with Teacher prespective')\n",
        "\n",
        "class Student_lecture:\n",
        "  def lec_info(self):\n",
        "    print('This is lec info with Student prespective')\n",
        "\n",
        "def parcer(class_obj):\n",
        "  for i in class_obj:\n",
        "    i.lec_info()\n"
      ],
      "metadata": {
        "id": "TK-ZeQzaNN3f"
      },
      "execution_count": null,
      "outputs": []
    },
    {
      "cell_type": "code",
      "source": [
        "obj1 = Teacher_lecture()\n",
        "obj2 = Student_lecture()"
      ],
      "metadata": {
        "id": "Sp97RXIsPtS8"
      },
      "execution_count": null,
      "outputs": []
    },
    {
      "cell_type": "code",
      "source": [
        "obj1.lec_info()"
      ],
      "metadata": {
        "colab": {
          "base_uri": "https://localhost:8080/"
        },
        "id": "82s-41H2Pz9f",
        "outputId": "e59151fe-6b47-4fff-c361-d7d9812734e0"
      },
      "execution_count": null,
      "outputs": [
        {
          "output_type": "stream",
          "name": "stdout",
          "text": [
            "This is lec info with Teacher prespective\n"
          ]
        }
      ]
    },
    {
      "cell_type": "code",
      "source": [
        "obj2.lec_info()"
      ],
      "metadata": {
        "colab": {
          "base_uri": "https://localhost:8080/"
        },
        "id": "63f7zfotP2v0",
        "outputId": "81add9c3-b539-416e-e1d5-62a4cdbdc888"
      },
      "execution_count": null,
      "outputs": [
        {
          "output_type": "stream",
          "name": "stdout",
          "text": [
            "This is lec info with Student prespective\n"
          ]
        }
      ]
    },
    {
      "cell_type": "code",
      "source": [
        "class_obj = [obj1,obj2]"
      ],
      "metadata": {
        "id": "BO6cw2SKP9RO"
      },
      "execution_count": null,
      "outputs": []
    },
    {
      "cell_type": "code",
      "source": [
        "parcer(class_obj)"
      ],
      "metadata": {
        "colab": {
          "base_uri": "https://localhost:8080/"
        },
        "id": "xJvloKL5QbAm",
        "outputId": "02305d35-7790-4944-ddc8-ec055714b019"
      },
      "execution_count": null,
      "outputs": [
        {
          "output_type": "stream",
          "name": "stdout",
          "text": [
            "This is lec info with Teacher prespective\n",
            "This is lec info with Student prespective\n"
          ]
        }
      ]
    },
    {
      "cell_type": "code",
      "source": [
        "## Both Teacher_lecture and student_lecture classes have a method called lec_info().\n",
        "## The function parcer() accepts a list of objects , and it calles the lec_info() method on each time.\n",
        "## Even though the method name is same , each object behaves differently -  THat \"POLYMORPHISM\""
      ],
      "metadata": {
        "id": "X54S97-fQ7ah"
      },
      "execution_count": null,
      "outputs": []
    },
    {
      "cell_type": "code",
      "source": [],
      "metadata": {
        "id": "AYjzzSQ0RhxN"
      },
      "execution_count": null,
      "outputs": []
    },
    {
      "cell_type": "code",
      "source": [
        "## 31] Explain method overriding in Python?\n",
        "##   Method overriding >> method in parent  class and child class with same signature ,the child class method will be executed\n"
      ],
      "metadata": {
        "id": "BGtBY5jVRrTZ"
      },
      "execution_count": null,
      "outputs": []
    },
    {
      "cell_type": "code",
      "source": [
        "class Animal :\n",
        "  def sound(self):\n",
        "    print('animal sound ')\n",
        "\n",
        "class Cat(Animal):\n",
        "  def sound(self):\n",
        "    print('cat sound')"
      ],
      "metadata": {
        "id": "fSkrHNI-R3Wp"
      },
      "execution_count": null,
      "outputs": []
    },
    {
      "cell_type": "code",
      "source": [
        "cat = Cat()"
      ],
      "metadata": {
        "id": "W5amEpTOSyHR"
      },
      "execution_count": null,
      "outputs": []
    },
    {
      "cell_type": "code",
      "source": [
        "cat.sound()"
      ],
      "metadata": {
        "colab": {
          "base_uri": "https://localhost:8080/"
        },
        "id": "wGWEQZQuS0Bi",
        "outputId": "f39b6466-6dda-4fa1-f8d4-46170c5ac984"
      },
      "execution_count": null,
      "outputs": [
        {
          "output_type": "stream",
          "name": "stdout",
          "text": [
            "cat sound\n"
          ]
        }
      ]
    },
    {
      "cell_type": "code",
      "source": [
        "## Cat is inheriting from Animal\n",
        "## Both have a method sound()\n",
        "## When sound() is called from Cat object, the child class version runs - This is method overriding"
      ],
      "metadata": {
        "id": "PCGcvCQETuDX"
      },
      "execution_count": null,
      "outputs": []
    },
    {
      "cell_type": "code",
      "source": [],
      "metadata": {
        "id": "50dJ2-2IUDf8"
      },
      "execution_count": null,
      "outputs": []
    },
    {
      "cell_type": "code",
      "source": [
        "##  32] Define a parent class Animal with a method make_sound that prints \"Generic animal sound\". Create a\n",
        "##  child class Dog inheriting from Animal with a method make_sound that prints \"Woof!"
      ],
      "metadata": {
        "id": "GgH_KzGFYTf-"
      },
      "execution_count": null,
      "outputs": []
    },
    {
      "cell_type": "code",
      "source": [
        "class Animal :\n",
        "  def make_sound(self):\n",
        "    print(\"Genric animal sound\")\n",
        "\n",
        "\n",
        "class Dog(Animal):\n",
        "  def make_sound(self):\n",
        "    print(\"Woof!\")\n",
        "\n",
        "\n"
      ],
      "metadata": {
        "id": "Cw643VLzZLNg"
      },
      "execution_count": null,
      "outputs": []
    },
    {
      "cell_type": "code",
      "source": [
        "animal =Animal()\n",
        "dog = Dog()"
      ],
      "metadata": {
        "id": "DWWfnUqiZpht"
      },
      "execution_count": null,
      "outputs": []
    },
    {
      "cell_type": "code",
      "source": [
        "dog.make_sound()"
      ],
      "metadata": {
        "colab": {
          "base_uri": "https://localhost:8080/"
        },
        "id": "VjL37EbDZsYf",
        "outputId": "18204433-569e-4f71-d6fc-22ed09d17f85"
      },
      "execution_count": null,
      "outputs": [
        {
          "output_type": "stream",
          "name": "stdout",
          "text": [
            "Woof!\n"
          ]
        }
      ]
    },
    {
      "cell_type": "code",
      "source": [],
      "metadata": {
        "id": "l6vo9AR2ZzIo"
      },
      "execution_count": null,
      "outputs": []
    },
    {
      "cell_type": "code",
      "source": [
        "## 33] Define a method move in the Animal class that prints \"Animal moves\". Override the move method in the\n",
        "##      Dog class to print \"Dog runs\"\n"
      ],
      "metadata": {
        "id": "0OLIg1mVaR0j"
      },
      "execution_count": null,
      "outputs": []
    },
    {
      "cell_type": "code",
      "source": [
        "class Animal:\n",
        "  def Move(self):\n",
        "    print(\"Animal moves\")\n",
        "\n",
        "class Dog(Animal):\n",
        "  def Move(self):\n",
        "    print(\"Dog runs\")\n"
      ],
      "metadata": {
        "id": "uIoVBB59bHcI"
      },
      "execution_count": null,
      "outputs": []
    },
    {
      "cell_type": "code",
      "source": [
        "a = Animal()"
      ],
      "metadata": {
        "id": "KcFhUIjubZJs"
      },
      "execution_count": null,
      "outputs": []
    },
    {
      "cell_type": "code",
      "source": [
        "a.Move()"
      ],
      "metadata": {
        "colab": {
          "base_uri": "https://localhost:8080/"
        },
        "id": "h3xfzMjNbice",
        "outputId": "3b8fd798-64b5-4ab7-c21a-cf8f7b77231a"
      },
      "execution_count": null,
      "outputs": [
        {
          "output_type": "stream",
          "name": "stdout",
          "text": [
            "Animal moves\n"
          ]
        }
      ]
    },
    {
      "cell_type": "code",
      "source": [
        "d = Dog()"
      ],
      "metadata": {
        "id": "MJzFXxSibjrn"
      },
      "execution_count": null,
      "outputs": []
    },
    {
      "cell_type": "code",
      "source": [
        "d.Move() ##Calling move() on a Dog object prints \"Dog runs\" instead of \"Animal moves\" — classic method overriding in action"
      ],
      "metadata": {
        "colab": {
          "base_uri": "https://localhost:8080/"
        },
        "id": "MMRttl5ibnSP",
        "outputId": "0af9caa8-a989-4230-f4b7-ee105f2bb343"
      },
      "execution_count": null,
      "outputs": [
        {
          "output_type": "stream",
          "name": "stdout",
          "text": [
            "Dog runs\n"
          ]
        }
      ]
    },
    {
      "cell_type": "code",
      "source": [],
      "metadata": {
        "id": "Bzn3IBIzboJD"
      },
      "execution_count": null,
      "outputs": []
    },
    {
      "cell_type": "code",
      "source": [
        "##34] Create a class Mammal with a method reproduce that prints \"Giving birth to live young.\" Create a class\n",
        " ## DogMammal inheriting from both Dog and Mammal"
      ],
      "metadata": {
        "id": "svLiX2i3b0XY"
      },
      "execution_count": null,
      "outputs": []
    },
    {
      "cell_type": "code",
      "source": [
        "class Mammal:\n",
        "  def reproduce(self):\n",
        "    print(\"Giving birth to live young\")\n",
        "\n",
        "class Dog (Mammal):\n",
        "  def produce(self):\n",
        "    print(\"Dog is a type of a Mammal\")\n",
        "\n",
        "class DogMammal(Dog, Mammal):\n",
        "    pass\n",
        "\n",
        "\n"
      ],
      "metadata": {
        "id": "QCCMiYzQb-CQ"
      },
      "execution_count": null,
      "outputs": []
    },
    {
      "cell_type": "code",
      "source": [
        "dm = DogMammal() ## DogMammal inherits from both Dog and Mammal."
      ],
      "metadata": {
        "id": "rR_-9MCWe80U"
      },
      "execution_count": null,
      "outputs": []
    },
    {
      "cell_type": "code",
      "source": [
        "dm.produce()"
      ],
      "metadata": {
        "colab": {
          "base_uri": "https://localhost:8080/"
        },
        "id": "krX0AHJ-e_zm",
        "outputId": "c6ef8e3b-34f6-49e3-e354-96871a8533bf"
      },
      "execution_count": null,
      "outputs": [
        {
          "output_type": "stream",
          "name": "stdout",
          "text": [
            "Dog is a type of a Mammal\n"
          ]
        }
      ]
    },
    {
      "cell_type": "code",
      "source": [
        "dm.reproduce()"
      ],
      "metadata": {
        "colab": {
          "base_uri": "https://localhost:8080/"
        },
        "id": "TykUWpCQfC1a",
        "outputId": "2ea9b7a3-0b94-48a6-d57c-a4a4ed08dc7c"
      },
      "execution_count": null,
      "outputs": [
        {
          "output_type": "stream",
          "name": "stdout",
          "text": [
            "Giving birth to live young\n"
          ]
        }
      ]
    },
    {
      "cell_type": "code",
      "source": [],
      "metadata": {
        "id": "oEW0WzaIfGGS"
      },
      "execution_count": null,
      "outputs": []
    },
    {
      "cell_type": "code",
      "source": [
        "## 35] Create a class GermanShepherd inheriting from Dog and override the make_sound method to print\n",
        "## \"Bark!\""
      ],
      "metadata": {
        "id": "vG9ksaJXgGM8"
      },
      "execution_count": null,
      "outputs": []
    },
    {
      "cell_type": "code",
      "source": [
        "class Dog:\n",
        "  def make_sound(self):\n",
        "    print(\"The different types of Dog make different sounds\")\n",
        "\n",
        "class GermanShepherd(Dog):\n",
        "  def make_sound(self):\n",
        "    print(\"Bark!\")"
      ],
      "metadata": {
        "id": "KZ-wIAmMgGVw"
      },
      "execution_count": null,
      "outputs": []
    },
    {
      "cell_type": "code",
      "source": [
        "g = GermanShepherd()"
      ],
      "metadata": {
        "id": "qFxGHcEig0NA"
      },
      "execution_count": null,
      "outputs": []
    },
    {
      "cell_type": "code",
      "source": [
        "g.make_sound()  ## class overrides this method to provide a breed-specific sound."
      ],
      "metadata": {
        "colab": {
          "base_uri": "https://localhost:8080/"
        },
        "id": "37S6kfMdg6pY",
        "outputId": "f7346288-ad2e-4fb2-d306-b46176a45d62"
      },
      "execution_count": null,
      "outputs": [
        {
          "output_type": "stream",
          "name": "stdout",
          "text": [
            "Bark!\n"
          ]
        }
      ]
    },
    {
      "cell_type": "code",
      "source": [],
      "metadata": {
        "id": "CVYsHplEg7ux"
      },
      "execution_count": null,
      "outputs": []
    },
    {
      "cell_type": "code",
      "source": [
        "## 36] Define constructors in both the Animal and Dog classes with different initialization parameters?\n",
        "class Animal:\n",
        "    def __init__(self, name, age):\n",
        "        self.name = name\n",
        "        self.age = age\n",
        "\n",
        "    def display_info(self):\n",
        "        print(f'Name: {self.name}')\n",
        "        print(f'Age: {self.age}')\n",
        "\n",
        "class Dog(Animal) :\n",
        "  def __init__(self,name,age,breed,colour):\n",
        "    self.name = name\n",
        "    self.age =  age\n",
        "    self.breed =  breed\n",
        "    self.colour = colour\n",
        "    self.energy_level = 5\n",
        "\n",
        "  def bark(self):\n",
        "      print('woof!,woof!')\n",
        "\n",
        "\n",
        "\n",
        "  def display_info(self):\n",
        "     print(f'name : {self.name}')\n",
        "     print(f'colour : {self.colour}')\n",
        "     print(f'age : {self.age}')\n",
        "     print(f'breed : {self.breed}')\n",
        "     print(f'energy_level : {self.energy_level}')\n",
        "\n",
        "  def play(self):\n",
        "    print(f'{self.name} is playig')\n",
        "    self.energy_level  += 2\n"
      ],
      "metadata": {
        "id": "tyGt6PwehO3T"
      },
      "execution_count": null,
      "outputs": []
    },
    {
      "cell_type": "code",
      "source": [
        "dog = Dog('Lucky' ,22,'siberia husky' ,'white')"
      ],
      "metadata": {
        "id": "fXUmvlrDqSs2"
      },
      "execution_count": null,
      "outputs": []
    },
    {
      "cell_type": "code",
      "source": [
        "dog.display_info()"
      ],
      "metadata": {
        "colab": {
          "base_uri": "https://localhost:8080/"
        },
        "id": "U72UFQYWqVbM",
        "outputId": "ab85dd68-42d2-4370-8bdb-5acafbf67ddb"
      },
      "execution_count": null,
      "outputs": [
        {
          "output_type": "stream",
          "name": "stdout",
          "text": [
            "name : Lucky\n",
            "colour : white\n",
            "age : 22\n",
            "breed : siberia husky\n",
            "energy_level : 5\n"
          ]
        }
      ]
    },
    {
      "cell_type": "code",
      "source": [],
      "metadata": {
        "id": "CH1fxd4K-dRx"
      },
      "execution_count": null,
      "outputs": []
    },
    {
      "cell_type": "code",
      "source": [
        "## 37] What is abstraction in Python? How is it implemented?\n",
        "## Abstraction is the concept of hiding complex implementation details and showing only essential features to the user.\n",
        "\n",
        "## In Python, abstraction is implemented using the abc module (Abstract Base Classes).\n",
        "\n",
        "## Use from abc import ABC, abstractmethod\n",
        "\n",
        "## Define an abstract base class by inheriting from ABC\n",
        "\n",
        "## Use @abstractmethod to mark methods that must be implemented in child classes"
      ],
      "metadata": {
        "id": "HbRPkq2RqXRQ"
      },
      "execution_count": null,
      "outputs": []
    },
    {
      "cell_type": "code",
      "source": [
        "\n",
        "## 38] Explain the importance of abstraction in object-oriented programming?\n",
        "## 39]  How are abstract methods different from regular methods in Python ?\n",
        "## 40]  How can you achieve abstraction using interfaces in Python?\n",
        "\n"
      ],
      "metadata": {
        "id": "fqo5Ky7ArlSH"
      },
      "execution_count": null,
      "outputs": []
    },
    {
      "cell_type": "code",
      "source": [],
      "metadata": {
        "id": "kjDnLumV9JxF"
      },
      "execution_count": null,
      "outputs": []
    },
    {
      "cell_type": "code",
      "source": [
        "## abstraction >> concept of hiding of complex implementation\n",
        "import abc"
      ],
      "metadata": {
        "id": "YEfgWAfhsgJN"
      },
      "execution_count": null,
      "outputs": []
    },
    {
      "cell_type": "code",
      "source": [
        "class PWskills:\n",
        "\n",
        "\n",
        "  @abc.abstractmethod\n",
        "  def student_details(self):\n",
        "    pass\n",
        "\n",
        "\n",
        "  @abc.abstractmethod\n",
        "  def student_assignments(self):\n",
        "    pass\n",
        "\n",
        "\n",
        "    @abc.abstractmethod\n",
        "    def student_marks(self):\n",
        "      pass\n",
        "\n"
      ],
      "metadata": {
        "id": "A-TieNL1suCj"
      },
      "execution_count": null,
      "outputs": []
    },
    {
      "cell_type": "code",
      "source": [
        "class Skills(PWskills):\n",
        "  def student_details(self):\n",
        "    return \"My name is atul\"\n",
        "\n",
        "\n",
        "  def student_assignments(self):\n",
        "     return \"If you score well in assignment ,You will succed\"\n",
        "\n",
        "  def student_marks(self):\n",
        "    return \" Marks is not only criteria which can judge you\""
      ],
      "metadata": {
        "id": "ZpIJGcHttWgR"
      },
      "execution_count": null,
      "outputs": []
    },
    {
      "cell_type": "code",
      "source": [
        "Skills_wallha = Skills()"
      ],
      "metadata": {
        "id": "TsTJ6PcaujV4"
      },
      "execution_count": null,
      "outputs": []
    },
    {
      "cell_type": "code",
      "source": [
        "Skills_wallha.student_assignments()"
      ],
      "metadata": {
        "colab": {
          "base_uri": "https://localhost:8080/",
          "height": 36
        },
        "id": "0EY_f7l8us_V",
        "outputId": "39c39a41-bac5-413c-bdd7-2e45ca094956"
      },
      "execution_count": null,
      "outputs": [
        {
          "output_type": "execute_result",
          "data": {
            "text/plain": [
              "'If you score well in assignment ,You will succed'"
            ],
            "application/vnd.google.colaboratory.intrinsic+json": {
              "type": "string"
            }
          },
          "metadata": {},
          "execution_count": 96
        }
      ]
    },
    {
      "cell_type": "code",
      "source": [
        "Skills_wallha.student_details()"
      ],
      "metadata": {
        "colab": {
          "base_uri": "https://localhost:8080/",
          "height": 36
        },
        "id": "bt_raVmAu0Vx",
        "outputId": "57a16923-1118-47f1-e0d7-bf3170e95b1b"
      },
      "execution_count": null,
      "outputs": [
        {
          "output_type": "execute_result",
          "data": {
            "text/plain": [
              "'My name is atul'"
            ],
            "application/vnd.google.colaboratory.intrinsic+json": {
              "type": "string"
            }
          },
          "metadata": {},
          "execution_count": 97
        }
      ]
    },
    {
      "cell_type": "code",
      "source": [
        "Skills_wallha.student_marks()"
      ],
      "metadata": {
        "colab": {
          "base_uri": "https://localhost:8080/",
          "height": 36
        },
        "id": "jxulVpx1u3kH",
        "outputId": "bc63ee70-acda-4b08-e79d-5bc04d08c58b"
      },
      "execution_count": null,
      "outputs": [
        {
          "output_type": "execute_result",
          "data": {
            "text/plain": [
              "' Marks is not only criteria which can judge you'"
            ],
            "application/vnd.google.colaboratory.intrinsic+json": {
              "type": "string"
            }
          },
          "metadata": {},
          "execution_count": 98
        }
      ]
    },
    {
      "cell_type": "code",
      "source": [
        "## Imporatnce of abstraction in OOPS\n",
        " # Hides Complexity\n",
        " # Improves Modularity >> we can define common interface for different subclasses\n",
        " # Encourages Extensibility >> create a new subclasses without touching the abstract class\n",
        " # Improves Security >> Since internal logic is hidden >> it is less likely to be accidentally misused or changed"
      ],
      "metadata": {
        "id": "RTvPofKvvYqj"
      },
      "execution_count": null,
      "outputs": []
    },
    {
      "cell_type": "code",
      "source": [
        "## 39]  How are abstract methods different from regular methods in Python ?\n",
        " # Abstract Methods are declared in an abstract class using @abstractmethod.\n",
        " # They do not have any implementation in the base class and must be overridden in derived classes.\n",
        "#Regular Methods have a body/implementation and can be used as-is or overridden in subclasses."
      ],
      "metadata": {
        "id": "48uPgrUewiV8"
      },
      "execution_count": null,
      "outputs": []
    },
    {
      "cell_type": "code",
      "source": [
        "## 41]Can you provide an example of how abstraction can be utilized to create a common interface for a group\n",
        "    ##   of related classes in Python? (Below is the example)\n",
        "\n",
        "\n",
        "## This example demonstrates abstraction by creating a common interface (PWskills) for a group of related classes.\n",
        "## Any class that inherits from PWskills must implement all the abstract methods like student_details,  student_assignments, and student_marks.\n",
        "## This ensures a uniform structure while hiding the internal implementation of each method."
      ],
      "metadata": {
        "id": "XSKM4At99iX0"
      },
      "execution_count": null,
      "outputs": []
    },
    {
      "cell_type": "code",
      "source": [],
      "metadata": {
        "id": "8HW4QhmR-g2k"
      },
      "execution_count": null,
      "outputs": []
    },
    {
      "cell_type": "code",
      "source": [
        "#42] How does Python achieve polymorphism through method overriding?\n",
        "class Animal:\n",
        "  def Move(self):\n",
        "    print(\"Animal moves\")\n",
        "\n",
        "class Dog(Animal):\n",
        "  def Move(self):\n",
        "    print(\"Dog runs\")\n",
        "\n",
        "\n",
        "d = Dog()\n",
        "d.Move() ##Calling move() on a Dog object prints \"Dog runs\" instead of \"Animal moves\" — classic method overriding in action\n"
      ],
      "metadata": {
        "colab": {
          "base_uri": "https://localhost:8080/"
        },
        "id": "MdQbD1Te9xCo",
        "outputId": "55329717-9ff1-49e9-81f8-b69ed4373247"
      },
      "execution_count": null,
      "outputs": [
        {
          "output_type": "stream",
          "name": "stdout",
          "text": [
            "Dog runs\n"
          ]
        }
      ]
    },
    {
      "cell_type": "code",
      "source": [],
      "metadata": {
        "id": "V_PCj3A5-KFd"
      },
      "execution_count": null,
      "outputs": []
    },
    {
      "cell_type": "code",
      "source": [
        "## 43]  Define a base class with a method and a subclass that overrides the method?\n",
        "\n",
        "class Animal:   ## base class\n",
        "  def Move(self):\n",
        "    print(\"Animal moves\")\n",
        "\n",
        "class Dog(Animal):  ## subclass\n",
        "  def Move(self):\n",
        "    print(\"Dog runs\")\n",
        "\n",
        "\n",
        "d = Dog()\n",
        "d.Move() ##Calling move() on a Dog object prints \"Dog runs\" instead of \"Animal moves\" — classic method overriding in action\n"
      ],
      "metadata": {
        "colab": {
          "base_uri": "https://localhost:8080/"
        },
        "id": "LuaVtxjX-q7s",
        "outputId": "4abcb532-e678-4f19-c49d-ead261c8e0c8"
      },
      "execution_count": null,
      "outputs": [
        {
          "output_type": "stream",
          "name": "stdout",
          "text": [
            "Dog runs\n"
          ]
        }
      ]
    },
    {
      "cell_type": "code",
      "source": [
        "## 44]  Define a base class and multiple subclasses with overridden methods?\n",
        "class Animal:   ## base class\n",
        "  def Move(self):\n",
        "    print(\"Animal moves\")\n",
        "\n",
        "class Dog(Animal):  ## subclass\n",
        "  def Move(self):\n",
        "    print(\"Dog runs\")\n",
        "\n",
        "class Shepherd(Dog):## subclass of Dog\n",
        "  def Move(self):\n",
        "    print(\"It is a sub class of DOG\")\n",
        "\n",
        "G = Shepherd()\n",
        "G.Move ()  ##Calling move() on a shepard object prints \"It is a sub class of DOG\" instead of \"Animal moves\" and \"Dog runs\" — classic method overriding in action"
      ],
      "metadata": {
        "colab": {
          "base_uri": "https://localhost:8080/"
        },
        "id": "oHpor4_Y_WaP",
        "outputId": "1abf4497-1698-487b-8472-c24092016bff"
      },
      "execution_count": null,
      "outputs": [
        {
          "output_type": "stream",
          "name": "stdout",
          "text": [
            "It is a sub class of DOG\n"
          ]
        }
      ]
    },
    {
      "cell_type": "code",
      "source": [],
      "metadata": {
        "id": "ydqrZh8kAc7x"
      },
      "execution_count": null,
      "outputs": []
    },
    {
      "cell_type": "code",
      "source": [
        "## 45] How does polymorphism improve code readability and reusability ?\n",
        "class Animal:\n",
        "    def speak(self):\n",
        "        pass\n",
        "\n",
        "class Dog(Animal):\n",
        "    def speak(self):\n",
        "        print(\"Woof!\")\n",
        "\n",
        "class Cat(Animal):\n",
        "    def speak(self):\n",
        "        print(\"Meow!\")\n",
        "\n",
        "# Common interface\n",
        "def make_animal_speak(animal):\n",
        "    animal.speak()\n"
      ],
      "metadata": {
        "id": "MvC03w0hBVsr"
      },
      "execution_count": null,
      "outputs": []
    },
    {
      "cell_type": "code",
      "source": [
        "make_animal_speak(Dog())\n",
        "make_animal_speak(Cat())\n"
      ],
      "metadata": {
        "colab": {
          "base_uri": "https://localhost:8080/"
        },
        "id": "U4ce1lqoBYqV",
        "outputId": "98cadd08-65f0-4158-8728-0de21520b990"
      },
      "execution_count": null,
      "outputs": [
        {
          "output_type": "stream",
          "name": "stdout",
          "text": [
            "Woof!\n",
            "Meow!\n"
          ]
        }
      ]
    },
    {
      "cell_type": "code",
      "source": [
        "# Readability\t>> One interface, multiple behaviors — easier to understand\n",
        "#  Reusability >> \tNo repeated code for different object types.\n",
        "# Scalability\t>> Add new types easily without changing old code.\n",
        " ## **Want to add a new Lion class? No need to touch existing code.\n",
        " ## ** Just define speak() in Lion, and it will automatically work with the same interface.\n",
        "# Cleaner Code >> Avoids long if-else chains or duplicated logic."
      ],
      "metadata": {
        "id": "nxvTfzAYffRI"
      },
      "execution_count": null,
      "outputs": []
    },
    {
      "cell_type": "code",
      "source": [],
      "metadata": {
        "id": "_bCcbkB0hNon"
      },
      "execution_count": null,
      "outputs": []
    },
    {
      "cell_type": "code",
      "source": [
        "## 46]  Describe how Python supports polymorphism with duck typing?\n",
        "\n",
        "#What is Duck Typing?\n",
        "  ##In Python, duck typing means an object's behavior is more important than its actual type.\n",
        "  ## If an object has the methods or attributes you need, you can use it — no need to check its class.\n",
        "\n",
        "class Dog:\n",
        "    def speak(self):\n",
        "        return \"Woof!\"\n",
        "\n",
        "class Cat:\n",
        "    def speak(self):\n",
        "        return \"Meow!\"\n",
        "\n",
        "class Human:\n",
        "    def speak(self):\n",
        "        return \"Hello!\"\n",
        "\n",
        "def make_it_talk(entity):\n",
        "    print(entity.speak())\n",
        "\n",
        "\n",
        "make_it_talk(Dog())\n",
        "make_it_talk(Cat())\n",
        "make_it_talk(Human())\n",
        "\n",
        "\n",
        "## The make_it_talk() function doesn’t care what class the object belongs to.\n",
        "\n",
        "## It just expects the object to have a .speak() method.\n",
        "\n",
        "##  This is polymorphism through duck typing: different types (Dog, Cat, Human) behave in the same way through a common interface."
      ],
      "metadata": {
        "colab": {
          "base_uri": "https://localhost:8080/"
        },
        "id": "bRbm72JAhONw",
        "outputId": "3ce02c82-6b0d-4d22-bd4d-0151e2cad5a7"
      },
      "execution_count": null,
      "outputs": [
        {
          "output_type": "stream",
          "name": "stdout",
          "text": [
            "Woof!\n",
            "Meow!\n",
            "Hello!\n"
          ]
        }
      ]
    },
    {
      "cell_type": "code",
      "source": [],
      "metadata": {
        "id": "zJVWwqHCi-lF"
      },
      "execution_count": null,
      "outputs": []
    },
    {
      "cell_type": "code",
      "source": [
        "## 47]  How do you achieve encapsulation in Python?\n",
        "#a] Public(default) accessible from anywhere\n",
        "#b] _protected (_) should be accessed only within the class or its subclasses\n",
        "#c] __private (__) making it harder to access from outside class\n"
      ],
      "metadata": {
        "id": "zUS7VTsRjqf2"
      },
      "execution_count": null,
      "outputs": []
    },
    {
      "cell_type": "code",
      "source": [],
      "metadata": {
        "id": "HB6zrcnikc41"
      },
      "execution_count": null,
      "outputs": []
    },
    {
      "cell_type": "code",
      "source": [
        "## 48]  Can encapsulation be bypassed in Python? If so, how ?\n",
        "#Encapsulation in Python is based on convention, not true enforcement."
      ],
      "metadata": {
        "id": "rxD8EqymlFT1"
      },
      "execution_count": null,
      "outputs": []
    },
    {
      "cell_type": "code",
      "source": [
        "# Public Attributes\n",
        "class Person:\n",
        "    def __init__(self):\n",
        "        self.name = \"Atul\"\n",
        "\n",
        "p = Person()\n",
        "\n",
        "p.name ## Accesible"
      ],
      "metadata": {
        "colab": {
          "base_uri": "https://localhost:8080/",
          "height": 36
        },
        "id": "eikdQQkhmzRW",
        "outputId": "14b9eb86-c3c5-4d3a-e203-cbe86e46a3b1"
      },
      "execution_count": null,
      "outputs": [
        {
          "output_type": "execute_result",
          "data": {
            "text/plain": [
              "'Atul'"
            ],
            "application/vnd.google.colaboratory.intrinsic+json": {
              "type": "string"
            }
          },
          "metadata": {},
          "execution_count": 12
        }
      ]
    },
    {
      "cell_type": "code",
      "source": [
        "## Protected attributes\n",
        "class Person:\n",
        "    def __init__(self):\n",
        "        self._age = 25   # One underscore means: \"treat as protected\"\n",
        "\n",
        "p = Person()\n",
        "p._age      #  Still accessible, but discouraged by convention.\n"
      ],
      "metadata": {
        "colab": {
          "base_uri": "https://localhost:8080/"
        },
        "id": "yfcBVdBVw-EA",
        "outputId": "04242303-4b87-480e-8754-131e386cd391"
      },
      "execution_count": null,
      "outputs": [
        {
          "output_type": "execute_result",
          "data": {
            "text/plain": [
              "25"
            ]
          },
          "metadata": {},
          "execution_count": 16
        }
      ]
    },
    {
      "cell_type": "code",
      "source": [
        "##  Private attributes – Name mangling, but still bypassable\n",
        "class Person:\n",
        "    def __init__(self):\n",
        "        self.__salary = 5000000   # Double underscore means: \"private\"\n",
        "\n",
        "p = Person()\n",
        "\n",
        "\n",
        "print(p._Person__salary)  #  Correct way to access the private variable\n"
      ],
      "metadata": {
        "colab": {
          "base_uri": "https://localhost:8080/"
        },
        "id": "MLjiiyJuy9U1",
        "outputId": "957d94c4-d2e7-48c2-a37c-ca77e9e04c24"
      },
      "execution_count": null,
      "outputs": [
        {
          "output_type": "stream",
          "name": "stdout",
          "text": [
            "5000000\n"
          ]
        }
      ]
    },
    {
      "cell_type": "code",
      "source": [
        "## Python follows the \"we're all adults here\" philosophy.\n",
        "## It assumes that if you're accessing private variables, you know what you're doing — but you're responsible for the consequences."
      ],
      "metadata": {
        "id": "lT3WcydIzkk6"
      },
      "execution_count": null,
      "outputs": []
    },
    {
      "cell_type": "code",
      "source": [],
      "metadata": {
        "id": "JUXJWXiw0Djb"
      },
      "execution_count": null,
      "outputs": []
    },
    {
      "cell_type": "code",
      "source": [
        "## 49] Implement a class BankAccount with a private balance attribute. Include methods to deposit, withdraw,\n",
        "##      and check the balance.\n"
      ],
      "metadata": {
        "id": "zPW6IaJa0PHm"
      },
      "execution_count": null,
      "outputs": []
    },
    {
      "cell_type": "code",
      "source": [
        "class Banks :\n",
        "  def __init__(self,balance):\n",
        "    self.__balance = balance\n",
        "\n",
        "  def deposit(self,amount):\n",
        "    self.__balance =self.__balance + amount\n",
        "\n",
        "  def withdraw(self,amount):\n",
        "    if self.__balance >= amount:\n",
        "      self.__balance = self.__balance - amount\n",
        "      return True\n",
        "    else:\n",
        "      False\n",
        "\n",
        "\n",
        "  def get_balance(self):\n",
        "    return self.__balance\n",
        "\n",
        "account  =  Banks(1000)"
      ],
      "metadata": {
        "id": "LFgIxbzU0obb"
      },
      "execution_count": null,
      "outputs": []
    },
    {
      "cell_type": "code",
      "source": [
        "account.get_balance()"
      ],
      "metadata": {
        "colab": {
          "base_uri": "https://localhost:8080/"
        },
        "id": "NeNl02p51zt1",
        "outputId": "75b83882-9981-49a8-f4bc-9d37c4c66035"
      },
      "execution_count": null,
      "outputs": [
        {
          "output_type": "execute_result",
          "data": {
            "text/plain": [
              "1000"
            ]
          },
          "metadata": {},
          "execution_count": 41
        }
      ]
    },
    {
      "cell_type": "code",
      "source": [
        "account.deposit(4500)"
      ],
      "metadata": {
        "id": "fnHnmwiN13yn"
      },
      "execution_count": null,
      "outputs": []
    },
    {
      "cell_type": "code",
      "source": [
        "account.get_balance()"
      ],
      "metadata": {
        "colab": {
          "base_uri": "https://localhost:8080/"
        },
        "id": "uQ7J5WeR20Le",
        "outputId": "7bacdec6-a99e-4347-8d25-70cdc740868e"
      },
      "execution_count": null,
      "outputs": [
        {
          "output_type": "execute_result",
          "data": {
            "text/plain": [
              "5500"
            ]
          },
          "metadata": {},
          "execution_count": 36
        }
      ]
    },
    {
      "cell_type": "code",
      "source": [
        "account.withdraw(5000)"
      ],
      "metadata": {
        "colab": {
          "base_uri": "https://localhost:8080/"
        },
        "id": "7lA7u0Qr23bB",
        "outputId": "f42275f8-7c3b-4f7f-b763-ca21f4f79051"
      },
      "execution_count": null,
      "outputs": [
        {
          "output_type": "execute_result",
          "data": {
            "text/plain": [
              "True"
            ]
          },
          "metadata": {},
          "execution_count": 37
        }
      ]
    },
    {
      "cell_type": "code",
      "source": [
        "account.get_balance()"
      ],
      "metadata": {
        "colab": {
          "base_uri": "https://localhost:8080/"
        },
        "id": "I9l9YOyI28Eh",
        "outputId": "db241457-607c-48bf-efdf-2c1d3d591a06"
      },
      "execution_count": null,
      "outputs": [
        {
          "output_type": "execute_result",
          "data": {
            "text/plain": [
              "500"
            ]
          },
          "metadata": {},
          "execution_count": 38
        }
      ]
    },
    {
      "cell_type": "code",
      "source": [],
      "metadata": {
        "id": "Dp9v9np33AD7"
      },
      "execution_count": null,
      "outputs": []
    },
    {
      "cell_type": "code",
      "source": [
        " ##50] Develop a Person class with private attributes name and email, and methods to set and get the email?\n",
        "class Person:\n",
        "  def __init__(self,name,email):\n",
        "    self.__name =  name\n",
        "    self.__email = email\n",
        "\n",
        "\n",
        "  def get_email(self):\n",
        "        return self.__email\n",
        "\n",
        "  def set_email(self, new_email):\n",
        "        self.__email = new_email"
      ],
      "metadata": {
        "id": "wRznyCHS82Vf"
      },
      "execution_count": null,
      "outputs": []
    },
    {
      "cell_type": "code",
      "source": [
        "P = Person(\"atul\" ,\"Atulpatil45678@GMAIL.COM\")"
      ],
      "metadata": {
        "id": "yWEum6YC_ky3"
      },
      "execution_count": null,
      "outputs": []
    },
    {
      "cell_type": "code",
      "source": [
        "P.get_email()"
      ],
      "metadata": {
        "colab": {
          "base_uri": "https://localhost:8080/",
          "height": 36
        },
        "id": "prK2uobA_w7o",
        "outputId": "afbe384d-abba-4f96-b203-e7866dcdb1a8"
      },
      "execution_count": null,
      "outputs": [
        {
          "output_type": "execute_result",
          "data": {
            "text/plain": [
              "'Atulpatil45678@GMAIL.COM'"
            ],
            "application/vnd.google.colaboratory.intrinsic+json": {
              "type": "string"
            }
          },
          "metadata": {},
          "execution_count": 57
        }
      ]
    },
    {
      "cell_type": "code",
      "source": [
        "P.set_email(\"abC@gamil.com\")"
      ],
      "metadata": {
        "id": "_qg3X804_808"
      },
      "execution_count": null,
      "outputs": []
    },
    {
      "cell_type": "code",
      "source": [
        "P.get_email() ## here we got new email"
      ],
      "metadata": {
        "colab": {
          "base_uri": "https://localhost:8080/",
          "height": 36
        },
        "id": "QsbkJiodAGYI",
        "outputId": "b12cdf71-d063-4917-ab0c-bcf8bea1adbf"
      },
      "execution_count": null,
      "outputs": [
        {
          "output_type": "execute_result",
          "data": {
            "text/plain": [
              "'abC@gamil.com'"
            ],
            "application/vnd.google.colaboratory.intrinsic+json": {
              "type": "string"
            }
          },
          "metadata": {},
          "execution_count": 60
        }
      ]
    },
    {
      "cell_type": "code",
      "source": [],
      "metadata": {
        "id": "Y1r3y3BdBHv5"
      },
      "execution_count": null,
      "outputs": []
    },
    {
      "cell_type": "code",
      "source": [
        "## 51] Why is encapsulation considered a pillar of object-oriented programming (OOP)?\n",
        "       # a]Data Hiding\tPrevents unwanted access\n",
        "       # b]Abstraction Support\tHides internal complexity\n",
        "       # c]Modularity\tMakes code organized & reusable\n",
        "      #  d]Control\tValidates & protects data"
      ],
      "metadata": {
        "id": "bsa7-JbYBh8o"
      },
      "execution_count": null,
      "outputs": []
    },
    {
      "cell_type": "code",
      "source": [],
      "metadata": {
        "id": "AtKl8oiGCQMs"
      },
      "execution_count": null,
      "outputs": []
    },
    {
      "cell_type": "code",
      "source": [
        "##52]Create a decorator in Python that adds functionality to a simple function by printing a message before\n",
        "##    and after the function execution\n",
        "def my_decorator_func(func):\n",
        "    def wrapper():\n",
        "        print(\"The lines being printed before the computation\")\n",
        "        func()  # Calling the original function\n",
        "        print(\"The lines being printed after the computation\")\n",
        "    return wrapper\n",
        "\n",
        "\n",
        "@my_decorator_func\n",
        "def simple_function():\n",
        "    print(1 + 11)\n",
        "\n",
        "simple_function()\n"
      ],
      "metadata": {
        "id": "VnG9r3rIMPxc",
        "colab": {
          "base_uri": "https://localhost:8080/"
        },
        "outputId": "f629f818-c822-4d64-d57d-a8150ee020fb"
      },
      "execution_count": null,
      "outputs": [
        {
          "output_type": "stream",
          "name": "stdout",
          "text": [
            "The lines being printed before the computation\n",
            "12\n",
            "The lines being printed after the computation\n"
          ]
        }
      ]
    },
    {
      "cell_type": "code",
      "source": [],
      "metadata": {
        "id": "Zc1L-HDVMYU3"
      },
      "execution_count": null,
      "outputs": []
    },
    {
      "cell_type": "code",
      "source": [
        "## 53] Modify the decorator to accept arguments and print the function name along with the message\n",
        "def my_decorator(func):\n",
        "    def wrapper(*args, **kwargs):\n",
        "        print(f\"Before executing function: {func.__name__}\")\n",
        "        result = func(*args, **kwargs)\n",
        "        print(f\"After executing function: {func.__name__}\")\n",
        "        return result\n",
        "    return wrapper\n",
        "\n",
        "@my_decorator\n",
        "def say_hello():\n",
        "    print('hello')\n",
        "\n",
        "@my_decorator\n",
        "def add_numbers(a, b):\n",
        "    print(f\"The sum is: {a + b}\")\n",
        "\n",
        "say_hello()\n",
        "add_numbers(5, 7)\n"
      ],
      "metadata": {
        "colab": {
          "base_uri": "https://localhost:8080/"
        },
        "id": "baS9LIgfJ6Mh",
        "outputId": "c317e8c3-859c-41ce-defe-cac323f80241"
      },
      "execution_count": null,
      "outputs": [
        {
          "output_type": "stream",
          "name": "stdout",
          "text": [
            "Before executing function: say_hello\n",
            "hello\n",
            "After executing function: say_hello\n",
            "Before executing function: add_numbers\n",
            "The sum is: 12\n",
            "After executing function: add_numbers\n"
          ]
        }
      ]
    },
    {
      "cell_type": "code",
      "source": [],
      "metadata": {
        "id": "OLsnszhKJ-Xw"
      },
      "execution_count": null,
      "outputs": []
    },
    {
      "cell_type": "code",
      "source": [
        "## 54] Create two decorators, and apply them to a single function. Ensure that they execute in the order they are\n",
        "##  applied?"
      ],
      "metadata": {
        "id": "qghseOvaKTXc"
      },
      "execution_count": null,
      "outputs": []
    },
    {
      "cell_type": "code",
      "source": [
        "def decorator_one(func):\n",
        "  def wrapper(*args,**kwargs):\n",
        "    print(\"Decorator one : Before function\")\n",
        "    result = func(*args,**kwargs)\n",
        "    print(\"Decorator one : after function\")\n",
        "    return result\n",
        "  return wrapper\n",
        "\n",
        "def decorator_two(func):\n",
        "    def wrapper(*args, **kwargs):\n",
        "        print(\"Decorator Two: Before function\")\n",
        "        result = func(*args, **kwargs)\n",
        "        print(\"Decorator Two: After function\")\n",
        "        return result\n",
        "    return wrapper\n"
      ],
      "metadata": {
        "id": "qgPowl1UKuZo"
      },
      "execution_count": null,
      "outputs": []
    },
    {
      "cell_type": "code",
      "source": [
        "@decorator_one\n",
        "@decorator_two\n",
        "def greet(name):\n",
        "  print(\"Hello\" ,\" \" f\"{name}\")\n",
        "greet(\"ATUl\")"
      ],
      "metadata": {
        "colab": {
          "base_uri": "https://localhost:8080/"
        },
        "id": "IgjgKXtqQ_0p",
        "outputId": "c6efe6c5-3688-4ce9-ecbc-4eb00360f043"
      },
      "execution_count": null,
      "outputs": [
        {
          "output_type": "stream",
          "name": "stdout",
          "text": [
            "Decorator one : Before function\n",
            "Decorator Two: Before function\n",
            "Hello  ATUl\n",
            "Decorator Two: After function\n",
            "Decorator one : after function\n"
          ]
        }
      ]
    },
    {
      "cell_type": "code",
      "source": [],
      "metadata": {
        "id": "FUwzXJgWRaXv"
      },
      "execution_count": null,
      "outputs": []
    },
    {
      "cell_type": "code",
      "source": [
        "## 55] Modify the decorator to accept and pass function arguments to the wrapped function?\n"
      ],
      "metadata": {
        "id": "FWAj1to3bBsV"
      },
      "execution_count": null,
      "outputs": []
    },
    {
      "cell_type": "code",
      "source": [
        "def my_decorator(func):\n",
        "    def wrapper(*args, **kwargs):\n",
        "        print(\"Before the function call\")\n",
        "        result = func(*args, **kwargs)\n",
        "        print(\"After the function call\")\n",
        "        return result\n",
        "    return wrapper\n",
        "\n",
        "\n",
        "@my_decorator\n",
        "def greet(name):\n",
        "    print(f\"Hello, {name}\")\n",
        "\n",
        "\n",
        "# Call the function **outside** the definition\n",
        "greet(\"Atul Trillionarie\")\n"
      ],
      "metadata": {
        "colab": {
          "base_uri": "https://localhost:8080/"
        },
        "id": "K_d0xYnkcR1j",
        "outputId": "c990c2f9-e3ae-4bd8-e3f9-81a8ac2df42b"
      },
      "execution_count": null,
      "outputs": [
        {
          "output_type": "stream",
          "name": "stdout",
          "text": [
            "Before the function call\n",
            "Hello, Atul Trillionarie\n",
            "After the function call\n"
          ]
        }
      ]
    },
    {
      "cell_type": "code",
      "source": [
        "def decorator_with_args(decorator_arg):\n",
        "  def actual_decorator(func):\n",
        "    def wrapper(*args,**kwargs):\n",
        "      print(f\"Decorator argument :{decorator_arg}\")\n",
        "      return func(*args,**kwargs)\n",
        "    return wrapper\n",
        "  return actual_decorator\n",
        "\n",
        "@decorator_with_args('test')\n",
        "def greet(name):\n",
        "    print(f\"Hello, {name}!\")\n",
        "\n",
        "greet(\"Alice\")\n",
        "\n"
      ],
      "metadata": {
        "colab": {
          "base_uri": "https://localhost:8080/"
        },
        "id": "AFpiKBPXdZEM",
        "outputId": "247e5a7e-08d4-4580-f915-a17ec045f96b"
      },
      "execution_count": null,
      "outputs": [
        {
          "output_type": "stream",
          "name": "stdout",
          "text": [
            "Decorator argument :test\n",
            "Hello, Alice!\n"
          ]
        }
      ]
    },
    {
      "cell_type": "code",
      "source": [],
      "metadata": {
        "id": "nvwskHwXeMDX"
      },
      "execution_count": null,
      "outputs": []
    },
    {
      "cell_type": "code",
      "source": [
        "##  56] Create a decorator that preserves the metadata of the original function?"
      ],
      "metadata": {
        "id": "LaBisjaXgAjK"
      },
      "execution_count": null,
      "outputs": []
    },
    {
      "cell_type": "code",
      "source": [
        "import functools\n",
        "\n",
        "def my_decorator(func):\n",
        "    @functools.wraps(func)\n",
        "    def wrapper(*args, **kwargs):\n",
        "        print(\"Before function call\")\n",
        "        result = func(*args, **kwargs)\n",
        "        print(\"After function call\")\n",
        "        return result\n",
        "    return wrapper\n"
      ],
      "metadata": {
        "id": "bcZ5FjtigFSU"
      },
      "execution_count": null,
      "outputs": []
    },
    {
      "cell_type": "code",
      "source": [
        "@my_decorator\n",
        "def greet(name):\n",
        "    \"\"\"This function greets the person.\"\"\"\n",
        "    print(f\"Hello, {name}!\")\n",
        "\n",
        "greet(\"Alice\")\n",
        "print(greet.__name__)\n",
        "print(greet.__doc__)\n"
      ],
      "metadata": {
        "colab": {
          "base_uri": "https://localhost:8080/"
        },
        "id": "WU6dYBovingx",
        "outputId": "a25962cb-72cf-410d-a5f2-26f26533a6cb"
      },
      "execution_count": null,
      "outputs": [
        {
          "output_type": "stream",
          "name": "stdout",
          "text": [
            "Before function call\n",
            "Hello, Alice!\n",
            "After function call\n",
            "greet\n",
            "This function greets the person.\n"
          ]
        }
      ]
    },
    {
      "cell_type": "code",
      "source": [],
      "metadata": {
        "id": "RpF3Om6aiwxt"
      },
      "execution_count": null,
      "outputs": []
    },
    {
      "cell_type": "code",
      "source": [
        "##57] Create a Python class `Calculator` with a static method `add` that takes in two numbers and returns their sum ?"
      ],
      "metadata": {
        "id": "6C50XhYzi_pu"
      },
      "execution_count": null,
      "outputs": []
    },
    {
      "cell_type": "code",
      "source": [
        "class Calculator:\n",
        "    @staticmethod\n",
        "    def add(a, b):\n",
        "        return a + b\n"
      ],
      "metadata": {
        "id": "NOEPBA-dkZmJ"
      },
      "execution_count": null,
      "outputs": []
    },
    {
      "cell_type": "code",
      "source": [
        "class Calculator:\n",
        "\n",
        "  @staticmethod\n",
        "  def add(a,b):\n",
        "    return a+b"
      ],
      "metadata": {
        "id": "ZgJ9nNKbka4r"
      },
      "execution_count": null,
      "outputs": []
    },
    {
      "cell_type": "code",
      "source": [
        "C = Calculator.add(33,56)\n",
        "C"
      ],
      "metadata": {
        "colab": {
          "base_uri": "https://localhost:8080/"
        },
        "id": "ucjPoq-GksTM",
        "outputId": "2b824395-f293-465f-9972-db89950c7182"
      },
      "execution_count": null,
      "outputs": [
        {
          "output_type": "execute_result",
          "data": {
            "text/plain": [
              "89"
            ]
          },
          "metadata": {},
          "execution_count": 8
        }
      ]
    },
    {
      "cell_type": "code",
      "source": [],
      "metadata": {
        "id": "QUkb_9tskwMW"
      },
      "execution_count": null,
      "outputs": []
    },
    {
      "cell_type": "code",
      "source": [
        "#58] Create a Python class `Employee` with a class `method get_employee_count` that returns the total\n",
        "#     number of employees created?"
      ],
      "metadata": {
        "id": "l5GFH9UfkyEZ"
      },
      "execution_count": null,
      "outputs": []
    },
    {
      "cell_type": "code",
      "source": [
        "class Employee:\n",
        "    employee_count = 0  # Class variable to track the number of employees\n",
        "\n",
        "    def __init__(self, name):\n",
        "        self.name = name\n",
        "        Employee.employee_count += 1\n",
        "\n",
        "    @classmethod\n",
        "    def get_employee_count(cls):\n",
        "        return cls.employee_count\n"
      ],
      "metadata": {
        "id": "CDUvaDzNle8E"
      },
      "execution_count": null,
      "outputs": []
    },
    {
      "cell_type": "code",
      "source": [
        "class Employee:\n",
        "  employee_count = 0\n",
        "\n",
        "\n",
        "  def __init__(self,name):\n",
        "    self.name =  name\n",
        "    Employee.employee_count  += 1\n",
        "\n",
        "  @classmethod\n",
        "  def get_employee_count(cls):\n",
        "    return cls.employee_count\n",
        "\n"
      ],
      "metadata": {
        "id": "Zpp7iv42mKGc"
      },
      "execution_count": null,
      "outputs": []
    },
    {
      "cell_type": "code",
      "source": [
        "E1 = Employee(\"Atul\")\n",
        "E2 = Employee(\"Atul Patil\")"
      ],
      "metadata": {
        "id": "KxfFkOxQm9ZB"
      },
      "execution_count": null,
      "outputs": []
    },
    {
      "cell_type": "code",
      "source": [
        "Employee.get_employee_count()"
      ],
      "metadata": {
        "colab": {
          "base_uri": "https://localhost:8080/"
        },
        "id": "loe8tivCnI_J",
        "outputId": "dc13a5b4-5f60-4f20-803b-51c65a7b626f"
      },
      "execution_count": null,
      "outputs": [
        {
          "output_type": "execute_result",
          "data": {
            "text/plain": [
              "2"
            ]
          },
          "metadata": {},
          "execution_count": 13
        }
      ]
    },
    {
      "cell_type": "code",
      "source": [],
      "metadata": {
        "id": "wuZcFKqVnShi"
      },
      "execution_count": null,
      "outputs": []
    },
    {
      "cell_type": "code",
      "source": [
        "## 59] Create a Python class `StringFormatter` with a static method `reverse_string` that takes a string as input\n",
        "## and returns its reverse ?\n"
      ],
      "metadata": {
        "id": "Zeqg2VRwn7n7"
      },
      "execution_count": null,
      "outputs": []
    },
    {
      "cell_type": "code",
      "source": [
        "class StringFormatter:\n",
        "\n",
        "  @staticmethod\n",
        "  def reverse_string(s):\n",
        "    return s[::-1]\n"
      ],
      "metadata": {
        "id": "lzj_CZmypmKS"
      },
      "execution_count": null,
      "outputs": []
    },
    {
      "cell_type": "code",
      "source": [
        "StringFormatter.reverse_string(\" HOW ARE U ?\")"
      ],
      "metadata": {
        "colab": {
          "base_uri": "https://localhost:8080/",
          "height": 35
        },
        "id": "s9SaFRmlqBaI",
        "outputId": "2cca51fa-d458-4103-95a7-93c3e83ef9d5"
      },
      "execution_count": null,
      "outputs": [
        {
          "output_type": "execute_result",
          "data": {
            "text/plain": [
              "'? U ERA WOH '"
            ],
            "application/vnd.google.colaboratory.intrinsic+json": {
              "type": "string"
            }
          },
          "metadata": {},
          "execution_count": 19
        }
      ]
    },
    {
      "cell_type": "code",
      "source": [],
      "metadata": {
        "id": "666Fnur-qoFY"
      },
      "execution_count": null,
      "outputs": []
    },
    {
      "cell_type": "code",
      "source": [
        "## 60] Create a Python class `Circle` with a class method `calculate_area` that calculates the area of a circle\n",
        " #   given its radius?"
      ],
      "metadata": {
        "id": "kKFw4yWpq1tu"
      },
      "execution_count": null,
      "outputs": []
    },
    {
      "cell_type": "code",
      "source": [
        "class Circle():\n",
        "  def __init__(self,radius):\n",
        "    self.radius = radius\n",
        "\n",
        "\n",
        "\n",
        "  @classmethod\n",
        "  def calculate_area(cls,radius):\n",
        "    return 22/7 *radius*radius\n"
      ],
      "metadata": {
        "id": "a1J4TTUarLgw"
      },
      "execution_count": null,
      "outputs": []
    },
    {
      "cell_type": "code",
      "source": [
        "Circle.calculate_area(7)"
      ],
      "metadata": {
        "colab": {
          "base_uri": "https://localhost:8080/"
        },
        "id": "oGVv22HTrZVI",
        "outputId": "13745bc4-fe6f-49e7-bc7f-cd8a3ebf1710"
      },
      "execution_count": null,
      "outputs": [
        {
          "output_type": "execute_result",
          "data": {
            "text/plain": [
              "154.0"
            ]
          },
          "metadata": {},
          "execution_count": 25
        }
      ]
    },
    {
      "cell_type": "code",
      "source": [],
      "metadata": {
        "id": "Vwm0PLFls7R4"
      },
      "execution_count": null,
      "outputs": []
    },
    {
      "cell_type": "code",
      "source": [
        "##61] Create a Python class `TemperatureConverter` with a static method `celsius_to_fahrenheit` that converts\n",
        "## Celsius to Fahrenheit"
      ],
      "metadata": {
        "id": "YkN3kzTatRva"
      },
      "execution_count": null,
      "outputs": []
    },
    {
      "cell_type": "code",
      "source": [
        "class TemperatureConverter :\n",
        "\n",
        "\n",
        "  @staticmethod\n",
        "  def celsius_to_fahrenheit(celsius):\n",
        "    return (celsius * 9/5) + 32"
      ],
      "metadata": {
        "id": "dh10qR8lt7VW"
      },
      "execution_count": null,
      "outputs": []
    },
    {
      "cell_type": "code",
      "source": [
        "TemperatureConverter.celsius_to_fahrenheit(78)"
      ],
      "metadata": {
        "colab": {
          "base_uri": "https://localhost:8080/"
        },
        "id": "UqmkmYy2xv4j",
        "outputId": "8cf961b3-8867-48db-98f5-9d2732419af8"
      },
      "execution_count": null,
      "outputs": [
        {
          "output_type": "execute_result",
          "data": {
            "text/plain": [
              "172.4"
            ]
          },
          "metadata": {},
          "execution_count": 30
        }
      ]
    },
    {
      "cell_type": "code",
      "source": [],
      "metadata": {
        "id": "qDDqmhfqzzY1"
      },
      "execution_count": null,
      "outputs": []
    },
    {
      "cell_type": "code",
      "source": [
        "##62]  What is the purpose of the __str__() method in Python classes? Provide an example ?\n",
        "# The __str__() method in a Python class is used to define how your object should be represented as a string — especially when you use print()."
      ],
      "metadata": {
        "id": "woM37BUVyRCL"
      },
      "execution_count": null,
      "outputs": []
    },
    {
      "cell_type": "code",
      "source": [
        "class Person:\n",
        "    def __init__(self, name, age):\n",
        "        self.name = name\n",
        "        self.age = age\n",
        "\n",
        "    def __str__(self):\n",
        "        return f\"{self.name} is {self.age} years old.\"\n"
      ],
      "metadata": {
        "id": "uaw35wPdzRXa"
      },
      "execution_count": null,
      "outputs": []
    },
    {
      "cell_type": "code",
      "source": [
        "P = Person(\"Atul\",25)\n",
        "print(P)"
      ],
      "metadata": {
        "colab": {
          "base_uri": "https://localhost:8080/"
        },
        "id": "z1xxrCL5zknG",
        "outputId": "e3a11115-54bc-49dd-e31d-1486fd365a1a"
      },
      "execution_count": null,
      "outputs": [
        {
          "output_type": "stream",
          "name": "stdout",
          "text": [
            "Atul is 25 years old.\n"
          ]
        }
      ]
    },
    {
      "cell_type": "code",
      "source": [
        "P.age"
      ],
      "metadata": {
        "id": "ePIXvF4czpwt"
      },
      "execution_count": null,
      "outputs": []
    },
    {
      "cell_type": "code",
      "source": [],
      "metadata": {
        "id": "D9xLiVZAz4O7"
      },
      "execution_count": null,
      "outputs": []
    },
    {
      "cell_type": "code",
      "source": [
        "##63]  How does the __len__() method work in Python? Provide an example?"
      ],
      "metadata": {
        "id": "5l8dAPVr0iul"
      },
      "execution_count": null,
      "outputs": []
    },
    {
      "cell_type": "code",
      "source": [
        "## If your class has the __len__() method, you can customize what len() means for your object.\n",
        "class ShoppingCart:\n",
        "    def __init__(self, items):\n",
        "        self.items = items\n",
        "\n",
        "    def __len__(self):\n",
        "        return len(self.items)\n"
      ],
      "metadata": {
        "id": "vluyjK5u0F4_"
      },
      "execution_count": null,
      "outputs": []
    },
    {
      "cell_type": "code",
      "source": [
        "cart = ShoppingCart([\"Apple\",\"Banana\",\"Chicko\",\"Mango\"])"
      ],
      "metadata": {
        "id": "pblgnmAu2vKo"
      },
      "execution_count": null,
      "outputs": []
    },
    {
      "cell_type": "code",
      "source": [
        "len(cart)"
      ],
      "metadata": {
        "colab": {
          "base_uri": "https://localhost:8080/"
        },
        "id": "UDVrO4ok3B3F",
        "outputId": "6cfb9c80-939e-4f95-85dd-85c834ab7690"
      },
      "execution_count": null,
      "outputs": [
        {
          "output_type": "execute_result",
          "data": {
            "text/plain": [
              "4"
            ]
          },
          "metadata": {},
          "execution_count": 39
        }
      ]
    },
    {
      "cell_type": "code",
      "source": [
        "# 64] Explain the usage of the __add__() method in Python classes. Provide an example\n"
      ],
      "metadata": {
        "id": "x9NYdVLn3MJo"
      },
      "execution_count": null,
      "outputs": []
    },
    {
      "cell_type": "code",
      "source": [
        "## The __add__() method lets you define custom behavior for the + operator when it’s used with objects of your class."
      ],
      "metadata": {
        "id": "_5R9MFl33sJo"
      },
      "execution_count": null,
      "outputs": []
    },
    {
      "cell_type": "code",
      "source": [
        "class Point:\n",
        "    def __init__(self, x, y):\n",
        "        self.x = x\n",
        "        self.y = y\n",
        "\n",
        "    def __add__(self, other):\n",
        "        return Point(self.x + other.x, self.y + other.y)\n",
        "\n",
        "    def __str__(self):\n",
        "        return f\"({self.x}, {self.y})\"\n"
      ],
      "metadata": {
        "id": "WR_WN-883t0_"
      },
      "execution_count": null,
      "outputs": []
    },
    {
      "cell_type": "code",
      "source": [
        "p1 = Point(23, 44)\n",
        "p2 = Point(10, 6)\n",
        "p3 = p1 + p2\n",
        "print(p3)"
      ],
      "metadata": {
        "colab": {
          "base_uri": "https://localhost:8080/"
        },
        "id": "So6WwV5i4Tmj",
        "outputId": "474f8dd8-0150-47a3-e310-4ebe16892949"
      },
      "execution_count": null,
      "outputs": [
        {
          "output_type": "stream",
          "name": "stdout",
          "text": [
            "(33, 50)\n"
          ]
        }
      ]
    },
    {
      "cell_type": "code",
      "source": [],
      "metadata": {
        "id": "o6yCwtER4Z7k"
      },
      "execution_count": null,
      "outputs": []
    },
    {
      "cell_type": "code",
      "source": [
        "## 65] What is the purpose of the __getitem__() method in Python? Provide an example"
      ],
      "metadata": {
        "id": "GfZ1Nr-D40Bs"
      },
      "execution_count": null,
      "outputs": []
    },
    {
      "cell_type": "code",
      "source": [
        "#The __getitem__() method is a special method that lets you use square bracket indexing ([]) with your custom class — just like you do with lists,\n",
        "#dictionaries, or strings."
      ],
      "metadata": {
        "id": "w-1Z3wVK4-X4"
      },
      "execution_count": null,
      "outputs": []
    },
    {
      "cell_type": "code",
      "source": [
        "class MyList:\n",
        "    def __init__(self, data):\n",
        "        self.data = data\n",
        "\n",
        "    def __getitem__(self, index):\n",
        "        return self.data[index]\n"
      ],
      "metadata": {
        "id": "7bPXQytd5AbL"
      },
      "execution_count": null,
      "outputs": []
    },
    {
      "cell_type": "code",
      "source": [
        "ml = MyList([10, 20, 30, 40])\n",
        "print(ml[2])\n",
        "print(ml[1])\n",
        "\n"
      ],
      "metadata": {
        "colab": {
          "base_uri": "https://localhost:8080/"
        },
        "id": "QE823W2W5KQ_",
        "outputId": "fe1a3a85-5d8c-401b-978a-b86a4c8af57e"
      },
      "execution_count": null,
      "outputs": [
        {
          "output_type": "stream",
          "name": "stdout",
          "text": [
            "30\n",
            "20\n"
          ]
        }
      ]
    },
    {
      "cell_type": "code",
      "source": [],
      "metadata": {
        "id": "ZY0O8BhP5Nxn"
      },
      "execution_count": null,
      "outputs": []
    },
    {
      "cell_type": "code",
      "source": [
        "##66] / Explain the usage of the __iter__() and __next__() methods in Python. Provide an example using\n",
        "## iterators"
      ],
      "metadata": {
        "id": "8Lt8x-sm50Q3"
      },
      "execution_count": null,
      "outputs": []
    },
    {
      "cell_type": "code",
      "source": [
        "## __iter__():\n",
        "\n",
        "#This method is used to return an iterator object.\n",
        "\n",
        "#When you make an object iterable (i.e., something you can loop over), the __iter__() method defines how to initialize the iteration process.\n",
        "\n",
        "##__next__():\n",
        "\n",
        "#This method is responsible for returning the next item in the iteration.\n",
        "\n",
        "#Each time you call next() on the iterator, it calls __next__() to get the next element.\n",
        "\n"
      ],
      "metadata": {
        "id": "jJFER6wZ56Rt"
      },
      "execution_count": null,
      "outputs": []
    },
    {
      "cell_type": "code",
      "source": [
        "class CountToN:\n",
        "    def __init__(self, n):\n",
        "        self.n = n  # Upper limit for counting\n",
        "        self.current = 1\n",
        "\n",
        "\n",
        "    def __iter__(self):\n",
        "        return self\n",
        "\n",
        "\n",
        "    def __next__(self):\n",
        "        if self.current <= self.n:\n",
        "            result = self.current\n",
        "            self.current += 1\n",
        "            return result\n",
        "        else:\n",
        "            raise StopIteration"
      ],
      "metadata": {
        "id": "AX-I2EIM6Ka6"
      },
      "execution_count": null,
      "outputs": []
    },
    {
      "cell_type": "code",
      "source": [
        "\n",
        "count = CountToN(5)\n",
        "\n",
        "\n",
        "for number in count:\n",
        "    print(number)\n"
      ],
      "metadata": {
        "colab": {
          "base_uri": "https://localhost:8080/"
        },
        "id": "coEa5m_X6dcc",
        "outputId": "cba3f1c7-015c-4fc3-ca31-e527ed9771f5"
      },
      "execution_count": null,
      "outputs": [
        {
          "output_type": "stream",
          "name": "stdout",
          "text": [
            "1\n",
            "2\n",
            "3\n",
            "4\n",
            "5\n"
          ]
        }
      ]
    },
    {
      "cell_type": "code",
      "source": [],
      "metadata": {
        "id": "cWk_HQHH6gGz"
      },
      "execution_count": null,
      "outputs": []
    },
    {
      "cell_type": "code",
      "source": [
        "##67]What is the purpose of a getter method in Python? Provide an example demonstrating the use of a getter\n",
        "##method using property decorators"
      ],
      "metadata": {
        "id": "XpFX_NsRYqzn"
      },
      "execution_count": 1,
      "outputs": []
    },
    {
      "cell_type": "code",
      "source": [
        "## A getter method is used to access (get) the value of a private attribute in a class.\n",
        "## In Python, we often use property decorators (@property) to define a getter,\n",
        "##  which makes accessing values look like attribute access, even though it's using a method behind the scenes."
      ],
      "metadata": {
        "id": "QVBkkoB-YuP2"
      },
      "execution_count": null,
      "outputs": []
    },
    {
      "cell_type": "code",
      "source": [
        "class Student:\n",
        "  def __init__(self,name,marks):\n",
        "    self._name = name\n",
        "    self._marks =  marks    #(_) is a protected attribute\n",
        "\n",
        "\n",
        "  @property\n",
        "  def marks(self):\n",
        "    return self._marks"
      ],
      "metadata": {
        "id": "nwu0dkksZoNh"
      },
      "execution_count": 2,
      "outputs": []
    },
    {
      "cell_type": "code",
      "source": [
        "student1 = Student(\"Rutuja\",85)"
      ],
      "metadata": {
        "id": "9TsGJ0GvaPLl"
      },
      "execution_count": 3,
      "outputs": []
    },
    {
      "cell_type": "code",
      "source": [
        "student1.marks ## we are getting marks because we used @property which is an getter function"
      ],
      "metadata": {
        "colab": {
          "base_uri": "https://localhost:8080/"
        },
        "id": "A5w6RchvabQm",
        "outputId": "594640d5-8339-4d0e-bb17-ad020356f5b0"
      },
      "execution_count": 5,
      "outputs": [
        {
          "output_type": "execute_result",
          "data": {
            "text/plain": [
              "85"
            ]
          },
          "metadata": {},
          "execution_count": 5
        }
      ]
    },
    {
      "cell_type": "code",
      "source": [
        "## 68] Explain the role of setter methods in Python. Demonstrate how to use a setter method to modify a class\n",
        " ##  attribute using property decorators ?"
      ],
      "metadata": {
        "id": "rIeK06HLadpe"
      },
      "execution_count": 7,
      "outputs": []
    },
    {
      "cell_type": "code",
      "source": [
        "#A setter method is used to safely update or modify the value of a private attribute in a class.\n",
        "# In Python, we commonly use the @property decorator for creating a getter, and @<property_name>.setter for defining a setter.\n",
        "# This gives us controlled access to change values, and we can also add validation or logic before modifying the value."
      ],
      "metadata": {
        "id": "xpNnaCy6baPg"
      },
      "execution_count": 8,
      "outputs": []
    },
    {
      "cell_type": "code",
      "source": [
        "class Student:\n",
        "    def __init__(self, marks):\n",
        "        self._marks = marks\n",
        "\n",
        "    @property\n",
        "    def marks(self):\n",
        "        return self._marks\n",
        "\n",
        "    @marks.setter\n",
        "    def marks(self, value):  # Setter\n",
        "        if value < 0 or value > 100:\n",
        "            raise ValueError(\"Marks should be between 0 and 100\")\n",
        "        self._marks = value\n"
      ],
      "metadata": {
        "id": "EmF0sEYJb_90"
      },
      "execution_count": 9,
      "outputs": []
    },
    {
      "cell_type": "code",
      "source": [
        "s  =  Student(99)"
      ],
      "metadata": {
        "id": "kBTH0kAwdeJY"
      },
      "execution_count": 10,
      "outputs": []
    },
    {
      "cell_type": "code",
      "source": [
        "s.marks = 80 ## setter"
      ],
      "metadata": {
        "id": "Q1OLdse5fbhd"
      },
      "execution_count": 14,
      "outputs": []
    },
    {
      "cell_type": "code",
      "source": [
        "s.marks"
      ],
      "metadata": {
        "colab": {
          "base_uri": "https://localhost:8080/"
        },
        "id": "_q6rpx2pfdEC",
        "outputId": "0ec95bb7-1239-444c-ea51-831d768693b9"
      },
      "execution_count": 15,
      "outputs": [
        {
          "output_type": "execute_result",
          "data": {
            "text/plain": [
              "80"
            ]
          },
          "metadata": {},
          "execution_count": 15
        }
      ]
    },
    {
      "cell_type": "code",
      "source": [
        "s.marks = 120 ## it raises value error\n"
      ],
      "metadata": {
        "colab": {
          "base_uri": "https://localhost:8080/",
          "height": 245
        },
        "id": "ZkcfcdoAfhTH",
        "outputId": "68f8b68d-ab5e-4a9b-8b0a-02bf0117400f"
      },
      "execution_count": 17,
      "outputs": [
        {
          "output_type": "error",
          "ename": "ValueError",
          "evalue": "Marks should be between 0 and 100",
          "traceback": [
            "\u001b[0;31m---------------------------------------------------------------------------\u001b[0m",
            "\u001b[0;31mValueError\u001b[0m                                Traceback (most recent call last)",
            "\u001b[0;32m<ipython-input-17-7e4df9d582e5>\u001b[0m in \u001b[0;36m<cell line: 0>\u001b[0;34m()\u001b[0m\n\u001b[0;32m----> 1\u001b[0;31m \u001b[0ms\u001b[0m\u001b[0;34m.\u001b[0m\u001b[0mmarks\u001b[0m \u001b[0;34m=\u001b[0m \u001b[0;36m120\u001b[0m \u001b[0;31m## it raises value error\u001b[0m\u001b[0;34m\u001b[0m\u001b[0;34m\u001b[0m\u001b[0m\n\u001b[0m",
            "\u001b[0;32m<ipython-input-9-5d84e26e956e>\u001b[0m in \u001b[0;36mmarks\u001b[0;34m(self, value)\u001b[0m\n\u001b[1;32m     10\u001b[0m     \u001b[0;32mdef\u001b[0m \u001b[0mmarks\u001b[0m\u001b[0;34m(\u001b[0m\u001b[0mself\u001b[0m\u001b[0;34m,\u001b[0m \u001b[0mvalue\u001b[0m\u001b[0;34m)\u001b[0m\u001b[0;34m:\u001b[0m  \u001b[0;31m# Setter\u001b[0m\u001b[0;34m\u001b[0m\u001b[0;34m\u001b[0m\u001b[0m\n\u001b[1;32m     11\u001b[0m         \u001b[0;32mif\u001b[0m \u001b[0mvalue\u001b[0m \u001b[0;34m<\u001b[0m \u001b[0;36m0\u001b[0m \u001b[0;32mor\u001b[0m \u001b[0mvalue\u001b[0m \u001b[0;34m>\u001b[0m \u001b[0;36m100\u001b[0m\u001b[0;34m:\u001b[0m\u001b[0;34m\u001b[0m\u001b[0;34m\u001b[0m\u001b[0m\n\u001b[0;32m---> 12\u001b[0;31m             \u001b[0;32mraise\u001b[0m \u001b[0mValueError\u001b[0m\u001b[0;34m(\u001b[0m\u001b[0;34m\"Marks should be between 0 and 100\"\u001b[0m\u001b[0;34m)\u001b[0m\u001b[0;34m\u001b[0m\u001b[0;34m\u001b[0m\u001b[0m\n\u001b[0m\u001b[1;32m     13\u001b[0m         \u001b[0mself\u001b[0m\u001b[0;34m.\u001b[0m\u001b[0m_marks\u001b[0m \u001b[0;34m=\u001b[0m \u001b[0mvalue\u001b[0m\u001b[0;34m\u001b[0m\u001b[0;34m\u001b[0m\u001b[0m\n",
            "\u001b[0;31mValueError\u001b[0m: Marks should be between 0 and 100"
          ]
        }
      ]
    },
    {
      "cell_type": "code",
      "source": [],
      "metadata": {
        "id": "MULvE2_cf6JX"
      },
      "execution_count": null,
      "outputs": []
    },
    {
      "cell_type": "code",
      "source": [
        "##69]  What is the purpose of the @property decorator in Python? Provide an example illustrating its usage What is the purpose of the @property decorator in Python? Provide an example illustrating its usage?\n"
      ],
      "metadata": {
        "id": "VTGXXRVLflLY"
      },
      "execution_count": 18,
      "outputs": []
    },
    {
      "cell_type": "code",
      "source": [
        "#The @property decorator allows you to access a method like an attribute.\n",
        "#It’s mainly used to create getter methods in a clean, readable way without needing to call them like functions."
      ],
      "metadata": {
        "id": "dLjRibfzgD0p"
      },
      "execution_count": 19,
      "outputs": []
    },
    {
      "cell_type": "code",
      "source": [
        "class Circle:\n",
        "    def __init__(self, radius):\n",
        "        self._radius = radius\n",
        "\n",
        "    @property\n",
        "    def area(self):  # No need to call it like a method\n",
        "        return 3.14 * self._radius ** 2\n"
      ],
      "metadata": {
        "id": "S4Xz0dSxgZdj"
      },
      "execution_count": 20,
      "outputs": []
    },
    {
      "cell_type": "code",
      "source": [
        "c = Circle(7)"
      ],
      "metadata": {
        "id": "mIrVvWmqgt0X"
      },
      "execution_count": 21,
      "outputs": []
    },
    {
      "cell_type": "code",
      "source": [
        "c.area"
      ],
      "metadata": {
        "colab": {
          "base_uri": "https://localhost:8080/"
        },
        "id": "dWWf048bgw9u",
        "outputId": "a607a477-1daa-4985-aeb5-34b0bba6a3d3"
      },
      "execution_count": 22,
      "outputs": [
        {
          "output_type": "execute_result",
          "data": {
            "text/plain": [
              "153.86"
            ]
          },
          "metadata": {},
          "execution_count": 22
        }
      ]
    },
    {
      "cell_type": "code",
      "source": [
        "## if we wont use decorator then we would call like\n",
        "## c.area() this is the mai difference"
      ],
      "metadata": {
        "id": "smR2WIEcgyaW"
      },
      "execution_count": 23,
      "outputs": []
    },
    {
      "cell_type": "code",
      "source": [],
      "metadata": {
        "id": "_85PXaHzhVZG"
      },
      "execution_count": null,
      "outputs": []
    },
    {
      "cell_type": "code",
      "source": [
        "## 70]Explain the use of the @deleter decorator in Python property decorators. Provide a code example\n",
        "#   demonstrating its application"
      ],
      "metadata": {
        "id": "Z6OcnxRbhVUd"
      },
      "execution_count": 32,
      "outputs": []
    },
    {
      "cell_type": "code",
      "source": [
        "##Why use @deleter?\n",
        "#  To control or restrict deletion of a private attribute\n",
        "\n",
        "# To log when a deletion happens\n",
        "\n",
        "# To reset values or perform cleanup"
      ],
      "metadata": {
        "id": "z9cKWw5OhBFv"
      },
      "execution_count": 33,
      "outputs": []
    },
    {
      "cell_type": "code",
      "source": [
        "class Person:\n",
        "    def __init__(self, name):\n",
        "        self._name = name\n",
        "\n",
        "    @property\n",
        "    def name(self):\n",
        "        return self._name\n",
        "\n",
        "    @name.deleter\n",
        "    def name(self):          # Deleter\n",
        "        print(\"Deleting name...\")\n",
        "        del self._name\n"
      ],
      "metadata": {
        "id": "wUIbq6Sshapo"
      },
      "execution_count": 34,
      "outputs": []
    },
    {
      "cell_type": "code",
      "source": [
        "p = Person(\"ATUL\")"
      ],
      "metadata": {
        "id": "MpQhIrmUhf29"
      },
      "execution_count": 35,
      "outputs": []
    },
    {
      "cell_type": "code",
      "source": [
        "p.name"
      ],
      "metadata": {
        "colab": {
          "base_uri": "https://localhost:8080/",
          "height": 35
        },
        "id": "1ls6HnI8hjmf",
        "outputId": "e8914733-6014-428b-e7f7-185092c8d48b"
      },
      "execution_count": 36,
      "outputs": [
        {
          "output_type": "execute_result",
          "data": {
            "text/plain": [
              "'ATUL'"
            ],
            "application/vnd.google.colaboratory.intrinsic+json": {
              "type": "string"
            }
          },
          "metadata": {},
          "execution_count": 36
        }
      ]
    },
    {
      "cell_type": "code",
      "source": [
        "del p.name"
      ],
      "metadata": {
        "colab": {
          "base_uri": "https://localhost:8080/"
        },
        "id": "kVOR63brhlSx",
        "outputId": "088c35f9-a2af-43c4-da39-f9c28ac0a91c"
      },
      "execution_count": 37,
      "outputs": [
        {
          "output_type": "stream",
          "name": "stdout",
          "text": [
            "Deleting name...\n"
          ]
        }
      ]
    },
    {
      "cell_type": "code",
      "source": [
        "p.name## hence we have deleted so it is showing attribute error\n"
      ],
      "metadata": {
        "colab": {
          "base_uri": "https://localhost:8080/",
          "height": 263
        },
        "id": "T--50EWShwZP",
        "outputId": "ea92979c-6664-4924-8a4c-c84817508f01"
      },
      "execution_count": 38,
      "outputs": [
        {
          "output_type": "error",
          "ename": "AttributeError",
          "evalue": "'Person' object has no attribute '_name'",
          "traceback": [
            "\u001b[0;31m---------------------------------------------------------------------------\u001b[0m",
            "\u001b[0;31mAttributeError\u001b[0m                            Traceback (most recent call last)",
            "\u001b[0;32m<ipython-input-38-1173d3f444fd>\u001b[0m in \u001b[0;36m<cell line: 0>\u001b[0;34m()\u001b[0m\n\u001b[0;32m----> 1\u001b[0;31m \u001b[0mp\u001b[0m\u001b[0;34m.\u001b[0m\u001b[0mname\u001b[0m\u001b[0;31m## hence we have deleted so it is showing attribute error\u001b[0m\u001b[0;34m\u001b[0m\u001b[0;34m\u001b[0m\u001b[0m\n\u001b[0m",
            "\u001b[0;32m<ipython-input-34-b2f628b1d9c3>\u001b[0m in \u001b[0;36mname\u001b[0;34m(self)\u001b[0m\n\u001b[1;32m      5\u001b[0m     \u001b[0;34m@\u001b[0m\u001b[0mproperty\u001b[0m\u001b[0;34m\u001b[0m\u001b[0;34m\u001b[0m\u001b[0m\n\u001b[1;32m      6\u001b[0m     \u001b[0;32mdef\u001b[0m \u001b[0mname\u001b[0m\u001b[0;34m(\u001b[0m\u001b[0mself\u001b[0m\u001b[0;34m)\u001b[0m\u001b[0;34m:\u001b[0m\u001b[0;34m\u001b[0m\u001b[0;34m\u001b[0m\u001b[0m\n\u001b[0;32m----> 7\u001b[0;31m         \u001b[0;32mreturn\u001b[0m \u001b[0mself\u001b[0m\u001b[0;34m.\u001b[0m\u001b[0m_name\u001b[0m\u001b[0;34m\u001b[0m\u001b[0;34m\u001b[0m\u001b[0m\n\u001b[0m\u001b[1;32m      8\u001b[0m \u001b[0;34m\u001b[0m\u001b[0m\n\u001b[1;32m      9\u001b[0m     \u001b[0;34m@\u001b[0m\u001b[0mname\u001b[0m\u001b[0;34m.\u001b[0m\u001b[0mdeleter\u001b[0m\u001b[0;34m\u001b[0m\u001b[0;34m\u001b[0m\u001b[0m\n",
            "\u001b[0;31mAttributeError\u001b[0m: 'Person' object has no attribute '_name'"
          ]
        }
      ]
    },
    {
      "cell_type": "code",
      "source": [],
      "metadata": {
        "id": "2S-YGj5Ohy0h"
      },
      "execution_count": 38,
      "outputs": []
    },
    {
      "cell_type": "code",
      "source": [
        "##71] How does encapsulation relate to property decorators in Python? Provide an example showcasing\n",
        "##  encapsulation using property decorators."
      ],
      "metadata": {
        "id": "anmDdyh6iOse"
      },
      "execution_count": 39,
      "outputs": []
    },
    {
      "cell_type": "code",
      "source": [
        "#Encapsulation means hiding the internal state of an object and allowing controlled access through methods.\n",
        "#In Python, we often achieve this by making attributes private or protected (using _ or __) and then exposing them via property decorators."
      ],
      "metadata": {
        "id": "_iz5a2vYiUDB"
      },
      "execution_count": 40,
      "outputs": []
    },
    {
      "cell_type": "code",
      "source": [
        "class BankAccount:\n",
        "    def __init__(self, balance):\n",
        "        self._balance = balance  # Protected attribute\n",
        "\n",
        "    @property\n",
        "    def balance(self):          # Getter\n",
        "        return self._balance\n",
        "\n",
        "    @balance.setter\n",
        "    def balance(self, amount):  # Setter with validation\n",
        "        if amount < 0:\n",
        "            raise ValueError(\"Balance cannot be negative\")\n",
        "        self._balance = amount\n"
      ],
      "metadata": {
        "id": "MJbCmMtDijoQ"
      },
      "execution_count": null,
      "outputs": []
    },
    {
      "cell_type": "code",
      "source": [
        "class Bankaccount:\n",
        "  def __init__(self,balance):\n",
        "    self._balance = balance\n",
        "\n",
        "  @property\n",
        "  def balance(self):\n",
        "    return self._balance\n",
        "\n",
        "  @balance.setter\n",
        "  def balance(self,amount):\n",
        "    if amount < 0 :\n",
        "      raise ValueError(\"Balance cannot be negative\")\n",
        "    self._balance = amount"
      ],
      "metadata": {
        "id": "0QxSx-vDiodP"
      },
      "execution_count": 41,
      "outputs": []
    },
    {
      "cell_type": "code",
      "source": [
        "b = Bankaccount(500)"
      ],
      "metadata": {
        "id": "2v-5pE1PjYHu"
      },
      "execution_count": 43,
      "outputs": []
    },
    {
      "cell_type": "code",
      "source": [
        "b.balance"
      ],
      "metadata": {
        "colab": {
          "base_uri": "https://localhost:8080/"
        },
        "id": "rOzGHFnYjdD-",
        "outputId": "4427615f-2bb4-4357-eaff-912effaeaf01"
      },
      "execution_count": 44,
      "outputs": [
        {
          "output_type": "execute_result",
          "data": {
            "text/plain": [
              "500"
            ]
          },
          "metadata": {},
          "execution_count": 44
        }
      ]
    },
    {
      "cell_type": "code",
      "source": [
        "b.balance = 1000"
      ],
      "metadata": {
        "id": "Rhkcj9qAjmSd"
      },
      "execution_count": 45,
      "outputs": []
    },
    {
      "cell_type": "code",
      "source": [
        "b.balance"
      ],
      "metadata": {
        "colab": {
          "base_uri": "https://localhost:8080/"
        },
        "id": "1oSwe0qFjoKu",
        "outputId": "750dc7c5-3868-481e-f710-1382258fb6d9"
      },
      "execution_count": 46,
      "outputs": [
        {
          "output_type": "execute_result",
          "data": {
            "text/plain": [
              "1000"
            ]
          },
          "metadata": {},
          "execution_count": 46
        }
      ]
    },
    {
      "cell_type": "code",
      "source": [
        "b.balance = -9 #ValueError: Balance cannot be negative\n"
      ],
      "metadata": {
        "colab": {
          "base_uri": "https://localhost:8080/",
          "height": 245
        },
        "id": "_gKVD-XljpHx",
        "outputId": "d52616a1-5e82-469c-8a8c-edb060a4e4e7"
      },
      "execution_count": 47,
      "outputs": [
        {
          "output_type": "error",
          "ename": "ValueError",
          "evalue": "Balance cannot be negative",
          "traceback": [
            "\u001b[0;31m---------------------------------------------------------------------------\u001b[0m",
            "\u001b[0;31mValueError\u001b[0m                                Traceback (most recent call last)",
            "\u001b[0;32m<ipython-input-47-0ab6747618c4>\u001b[0m in \u001b[0;36m<cell line: 0>\u001b[0;34m()\u001b[0m\n\u001b[0;32m----> 1\u001b[0;31m \u001b[0mb\u001b[0m\u001b[0;34m.\u001b[0m\u001b[0mbalance\u001b[0m \u001b[0;34m=\u001b[0m \u001b[0;34m-\u001b[0m\u001b[0;36m9\u001b[0m\u001b[0;34m\u001b[0m\u001b[0;34m\u001b[0m\u001b[0m\n\u001b[0m",
            "\u001b[0;32m<ipython-input-41-4137bfe74c54>\u001b[0m in \u001b[0;36mbalance\u001b[0;34m(self, amount)\u001b[0m\n\u001b[1;32m     10\u001b[0m   \u001b[0;32mdef\u001b[0m \u001b[0mbalance\u001b[0m\u001b[0;34m(\u001b[0m\u001b[0mself\u001b[0m\u001b[0;34m,\u001b[0m\u001b[0mamount\u001b[0m\u001b[0;34m)\u001b[0m\u001b[0;34m:\u001b[0m\u001b[0;34m\u001b[0m\u001b[0;34m\u001b[0m\u001b[0m\n\u001b[1;32m     11\u001b[0m     \u001b[0;32mif\u001b[0m \u001b[0mamount\u001b[0m \u001b[0;34m<\u001b[0m \u001b[0;36m0\u001b[0m \u001b[0;34m:\u001b[0m\u001b[0;34m\u001b[0m\u001b[0;34m\u001b[0m\u001b[0m\n\u001b[0;32m---> 12\u001b[0;31m       \u001b[0;32mraise\u001b[0m \u001b[0mValueError\u001b[0m\u001b[0;34m(\u001b[0m\u001b[0;34m\"Balance cannot be negative\"\u001b[0m\u001b[0;34m)\u001b[0m\u001b[0;34m\u001b[0m\u001b[0;34m\u001b[0m\u001b[0m\n\u001b[0m\u001b[1;32m     13\u001b[0m     \u001b[0mself\u001b[0m\u001b[0;34m.\u001b[0m\u001b[0m_balance\u001b[0m \u001b[0;34m=\u001b[0m \u001b[0mamount\u001b[0m\u001b[0;34m\u001b[0m\u001b[0;34m\u001b[0m\u001b[0m\n",
            "\u001b[0;31mValueError\u001b[0m: Balance cannot be negative"
          ]
        }
      ]
    },
    {
      "cell_type": "code",
      "source": [],
      "metadata": {
        "id": "C40n36pvjwKP"
      },
      "execution_count": null,
      "outputs": []
    }
  ]
}