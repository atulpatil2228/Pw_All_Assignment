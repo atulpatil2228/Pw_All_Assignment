{
  "nbformat": 4,
  "nbformat_minor": 0,
  "metadata": {
    "colab": {
      "provenance": [],
      "authorship_tag": "ABX9TyNTf3OPLFjrjhpi3JjBmsL4",
      "include_colab_link": true
    },
    "kernelspec": {
      "name": "python3",
      "display_name": "Python 3"
    },
    "language_info": {
      "name": "python"
    }
  },
  "cells": [
    {
      "cell_type": "markdown",
      "metadata": {
        "id": "view-in-github",
        "colab_type": "text"
      },
      "source": [
        "<a href=\"https://colab.research.google.com/github/atulpatil2228/Pw_All_Assignment/blob/main/Assignment_Break_and_Continue_statement.ipynb\" target=\"_parent\"><img src=\"https://colab.research.google.com/assets/colab-badge.svg\" alt=\"Open In Colab\"/></a>"
      ]
    },
    {
      "cell_type": "code",
      "execution_count": 1,
      "metadata": {
        "colab": {
          "base_uri": "https://localhost:8080/"
        },
        "id": "LUlbhA-gWQfA",
        "outputId": "bbc34752-4423-4bb9-b900-6b2f02044f4a"
      },
      "outputs": [
        {
          "output_type": "stream",
          "name": "stdout",
          "text": [
            "1\n",
            "2\n",
            "3\n",
            "4\n"
          ]
        }
      ],
      "source": [
        "##1] Write a program to print numbers from 1 to 10, but stop if the number is 5.\n",
        "for i in range(1, 11):\n",
        "    if i == 5:\n",
        "        break\n",
        "    print(i)\n",
        "\n"
      ]
    },
    {
      "cell_type": "code",
      "source": [
        "##2]Write a program to iterate through a list and stop when encountering a specific element.\n",
        "my_list = [\"apple\", \"banana\", \"stop\", \"cherry\", \"mango\"]\n",
        "\n",
        "for item in my_list:\n",
        "    if item == \"stop\":\n",
        "        break\n",
        "    print(item)\n"
      ],
      "metadata": {
        "colab": {
          "base_uri": "https://localhost:8080/"
        },
        "id": "rYXwFPRsWlxS",
        "outputId": "14cd7d2c-c7ce-4563-e7cb-488c2f63a45a"
      },
      "execution_count": 2,
      "outputs": [
        {
          "output_type": "stream",
          "name": "stdout",
          "text": [
            "apple\n",
            "banana\n"
          ]
        }
      ]
    },
    {
      "cell_type": "code",
      "source": [
        "##3]Write a program to skip printing even numbers from 1 to 10.\n",
        "for i in range(1, 11):\n",
        "    if i % 2 == 0:\n",
        "        continue\n",
        "    print(i)\n"
      ],
      "metadata": {
        "colab": {
          "base_uri": "https://localhost:8080/"
        },
        "id": "GWzEY2MRWxh8",
        "outputId": "d4515185-c424-4cf0-8966-24f807b05f7f"
      },
      "execution_count": 4,
      "outputs": [
        {
          "output_type": "stream",
          "name": "stdout",
          "text": [
            "1\n",
            "3\n",
            "5\n",
            "7\n",
            "9\n"
          ]
        }
      ]
    },
    {
      "cell_type": "code",
      "source": [
        "##4] Write a program to print numbers from 0 to 9 using range().\n",
        "for i in range(10):\n",
        "    print(i)\n"
      ],
      "metadata": {
        "colab": {
          "base_uri": "https://localhost:8080/"
        },
        "id": "adLc8c4kW6Tz",
        "outputId": "620d4db6-a8cf-4d8a-b5be-a92b8dc8a688"
      },
      "execution_count": 5,
      "outputs": [
        {
          "output_type": "stream",
          "name": "stdout",
          "text": [
            "0\n",
            "1\n",
            "2\n",
            "3\n",
            "4\n",
            "5\n",
            "6\n",
            "7\n",
            "8\n",
            "9\n"
          ]
        }
      ]
    },
    {
      "cell_type": "code",
      "source": [
        "##5]Write a program to print multiplication tables from 1 to 5, but stop after the first table is printed for each\n",
        "## number\n",
        "for i in range(1, 6):\n",
        "    for j in range(1, 11):\n",
        "        print(f\"{i} x {j} = {i * j}\")\n",
        "        break  # Stop after the first multiplication for each i\n"
      ],
      "metadata": {
        "colab": {
          "base_uri": "https://localhost:8080/"
        },
        "id": "1E55kaxAXLP3",
        "outputId": "1eb9517b-4bed-496b-9442-26e18b354084"
      },
      "execution_count": 6,
      "outputs": [
        {
          "output_type": "stream",
          "name": "stdout",
          "text": [
            "1 x 1 = 1\n",
            "2 x 1 = 2\n",
            "3 x 1 = 3\n",
            "4 x 1 = 4\n",
            "5 x 1 = 5\n"
          ]
        }
      ]
    },
    {
      "cell_type": "code",
      "source": [
        "##6]Write a program to skip printing even numbers using a while loop.\n",
        "i = 1\n",
        "while i <= 10:\n",
        "    if i % 2 == 0:\n",
        "        i += 1\n",
        "        continue\n",
        "    print(i)\n",
        "    i += 1\n"
      ],
      "metadata": {
        "colab": {
          "base_uri": "https://localhost:8080/"
        },
        "id": "rg2i740pXeqP",
        "outputId": "38c33129-c1ee-4bd0-849b-3533af219da7"
      },
      "execution_count": 8,
      "outputs": [
        {
          "output_type": "stream",
          "name": "stdout",
          "text": [
            "1\n",
            "3\n",
            "5\n",
            "7\n",
            "9\n"
          ]
        }
      ]
    },
    {
      "cell_type": "code",
      "source": [],
      "metadata": {
        "id": "CseDaNiJXkhb"
      },
      "execution_count": null,
      "outputs": []
    }
  ]
}