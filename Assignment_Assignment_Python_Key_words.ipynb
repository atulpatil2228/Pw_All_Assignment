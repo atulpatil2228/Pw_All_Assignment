{
  "nbformat": 4,
  "nbformat_minor": 0,
  "metadata": {
    "colab": {
      "provenance": [],
      "authorship_tag": "ABX9TyNGV2L3yLr+NOmvFKQQ+8jG",
      "include_colab_link": true
    },
    "kernelspec": {
      "name": "python3",
      "display_name": "Python 3"
    },
    "language_info": {
      "name": "python"
    }
  },
  "cells": [
    {
      "cell_type": "markdown",
      "metadata": {
        "id": "view-in-github",
        "colab_type": "text"
      },
      "source": [
        "<a href=\"https://colab.research.google.com/github/atulpatil2228/Pw_All_Assignment/blob/main/Assignment_Assignment_Python_Key_words.ipynb\" target=\"_parent\"><img src=\"https://colab.research.google.com/assets/colab-badge.svg\" alt=\"Open In Colab\"/></a>"
      ]
    },
    {
      "cell_type": "code",
      "execution_count": 1,
      "metadata": {
        "id": "gpkOExIlywPv"
      },
      "outputs": [],
      "source": [
        "## 1] Explain the significance of Python keywords and provide examples of five keywords."
      ]
    },
    {
      "cell_type": "code",
      "source": [
        "## Python keywords are reserved words that have special meaning in the language.\n",
        " ##They are part of the syntax and cannot be used as variable names, function names, or identifiers. These keywords are the building blocks of Python programs, helping define structure, flow, and operations.\n"
      ],
      "metadata": {
        "id": "Y64eeReIy4Vc"
      },
      "execution_count": 2,
      "outputs": []
    },
    {
      "cell_type": "code",
      "source": [
        "#Define control flow (if, else, while)\n",
        "\n",
        "#Handle exceptions (try, except)\n",
        "\n",
        "#Define functions and classes (def, class)\n",
        "\n",
        "#Manage boolean logic (True, False, not)\n",
        "\n",
        "#Represent data flow and context (return, in, is)"
      ],
      "metadata": {
        "id": "8S4KYv8wzKS3"
      },
      "execution_count": 3,
      "outputs": []
    },
    {
      "cell_type": "code",
      "source": [
        "import keyword\n",
        "\n",
        "for kw in keyword.kwlist:\n",
        "    print(kw)\n"
      ],
      "metadata": {
        "colab": {
          "base_uri": "https://localhost:8080/"
        },
        "id": "DLFhljkTzUDu",
        "outputId": "5865b5f4-dcce-41a6-c748-6f1262b0c663"
      },
      "execution_count": 7,
      "outputs": [
        {
          "output_type": "stream",
          "name": "stdout",
          "text": [
            "False\n",
            "None\n",
            "True\n",
            "and\n",
            "as\n",
            "assert\n",
            "async\n",
            "await\n",
            "break\n",
            "class\n",
            "continue\n",
            "def\n",
            "del\n",
            "elif\n",
            "else\n",
            "except\n",
            "finally\n",
            "for\n",
            "from\n",
            "global\n",
            "if\n",
            "import\n",
            "in\n",
            "is\n",
            "lambda\n",
            "nonlocal\n",
            "not\n",
            "or\n",
            "pass\n",
            "raise\n",
            "return\n",
            "try\n",
            "while\n",
            "with\n",
            "yield\n"
          ]
        }
      ]
    },
    {
      "cell_type": "code",
      "source": [],
      "metadata": {
        "id": "lPR8rKJYzxTt"
      },
      "execution_count": null,
      "outputs": []
    },
    {
      "cell_type": "code",
      "source": [
        "# 2] Describe the rules for defining identifiers in Python and provide an example."
      ],
      "metadata": {
        "id": "f_2R9NHvzYBd"
      },
      "execution_count": 8,
      "outputs": []
    },
    {
      "cell_type": "code",
      "source": [
        "##Can contain:\n",
        "\n",
        "#Letters (A–Z or a–z)\n",
        "\n",
        "#Digits (0–9)\n",
        "\n",
        "##Underscore _\n",
        "\n",
        "###Must start with:\n",
        "\n",
        "#A letter or an underscore (_)\n",
        "\n",
        "#Cannot start with a digit\n",
        "\n",
        "#Cannot be a Python keyword\n",
        "#(e.g., for, if, class, def are reserved)\n",
        "\n",
        "##Case-sensitive:\n",
        "\n",
        "# Name, name, and NAME are all different identifiers"
      ],
      "metadata": {
        "id": "h1TQfv3-z_QB"
      },
      "execution_count": 9,
      "outputs": []
    },
    {
      "cell_type": "code",
      "source": [
        "name = \"John\"\n",
        "_age = 25\n",
        "total_marks = 98\n",
        "Student1 = \"Aditi\"\n"
      ],
      "metadata": {
        "id": "MFGfR97T0QAt"
      },
      "execution_count": 10,
      "outputs": []
    },
    {
      "cell_type": "code",
      "source": [
        "name"
      ],
      "metadata": {
        "colab": {
          "base_uri": "https://localhost:8080/",
          "height": 35
        },
        "id": "hl36-94v0QQY",
        "outputId": "1de8834f-de11-4fa8-87e6-305be1be8481"
      },
      "execution_count": 11,
      "outputs": [
        {
          "output_type": "execute_result",
          "data": {
            "text/plain": [
              "'John'"
            ],
            "application/vnd.google.colaboratory.intrinsic+json": {
              "type": "string"
            }
          },
          "metadata": {},
          "execution_count": 11
        }
      ]
    },
    {
      "cell_type": "code",
      "source": [
        "_age"
      ],
      "metadata": {
        "colab": {
          "base_uri": "https://localhost:8080/"
        },
        "id": "oOTggtTG0RIX",
        "outputId": "d2ef2a26-d8d9-44cd-a336-5da4e14bc64f"
      },
      "execution_count": 12,
      "outputs": [
        {
          "output_type": "execute_result",
          "data": {
            "text/plain": [
              "25"
            ]
          },
          "metadata": {},
          "execution_count": 12
        }
      ]
    },
    {
      "cell_type": "code",
      "source": [
        "total_marks"
      ],
      "metadata": {
        "colab": {
          "base_uri": "https://localhost:8080/"
        },
        "id": "pFw0Y2gd0SND",
        "outputId": "da6a3150-f64b-41c9-8f6c-3c19cf737039"
      },
      "execution_count": 13,
      "outputs": [
        {
          "output_type": "execute_result",
          "data": {
            "text/plain": [
              "98"
            ]
          },
          "metadata": {},
          "execution_count": 13
        }
      ]
    },
    {
      "cell_type": "code",
      "source": [
        "Student1"
      ],
      "metadata": {
        "colab": {
          "base_uri": "https://localhost:8080/",
          "height": 35
        },
        "id": "pzJynBSG0SxJ",
        "outputId": "eae347a9-242c-4cb7-ca34-7baccfd0467c"
      },
      "execution_count": 14,
      "outputs": [
        {
          "output_type": "execute_result",
          "data": {
            "text/plain": [
              "'Aditi'"
            ],
            "application/vnd.google.colaboratory.intrinsic+json": {
              "type": "string"
            }
          },
          "metadata": {},
          "execution_count": 14
        }
      ]
    },
    {
      "cell_type": "code",
      "source": [],
      "metadata": {
        "id": "P1M9Lvn70VC9"
      },
      "execution_count": null,
      "outputs": []
    },
    {
      "cell_type": "code",
      "source": [
        "# 3] What are comments in Python, and why are they useful? Provide an example."
      ],
      "metadata": {
        "id": "cTmQxT6x0Xnb"
      },
      "execution_count": 15,
      "outputs": []
    },
    {
      "cell_type": "code",
      "source": [
        "## Comments in Python are non-executable lines of text used to explain code.\n",
        "# They are ignored by the Python interpreter and are meant for humans to understand the logic, purpose, or steps in the code."
      ],
      "metadata": {
        "id": "78LTfPdr0bXK"
      },
      "execution_count": 16,
      "outputs": []
    },
    {
      "cell_type": "code",
      "source": [
        "#Types of Comments:\n",
        "#Single-line comment – starts with #\n",
        "\n",
        "# Multi-line comment – using triple quotes (''' or \"\"\") (commonly used as docstrings, but can serve as comments too)."
      ],
      "metadata": {
        "id": "ZVF7XeoR0m0l"
      },
      "execution_count": 17,
      "outputs": []
    },
    {
      "cell_type": "code",
      "source": [
        "# This is a single-line comment\n",
        "x = 5  # Assigning value 5 to variable x\n",
        "\n",
        "\"\"\"\n",
        "This is a multi-line comment.\n",
        "It can explain complex logic or provide additional context.\n",
        "\"\"\"\n",
        "def greet():\n",
        "    print(\"Hello!\")\n"
      ],
      "metadata": {
        "id": "adXjiDYj0uTe"
      },
      "execution_count": 18,
      "outputs": []
    },
    {
      "cell_type": "code",
      "source": [],
      "metadata": {
        "id": "qxETyAm402WU"
      },
      "execution_count": null,
      "outputs": []
    },
    {
      "cell_type": "code",
      "source": [
        "#4] ` Why is proper indentation important in Python?"
      ],
      "metadata": {
        "id": "qRYXGPIj0yRQ"
      },
      "execution_count": 19,
      "outputs": []
    },
    {
      "cell_type": "code",
      "source": [
        "##key Reasons Why Indentation Matters:\n",
        "#Defines Code Blocks\n",
        "\n",
        "#Unlike other languages that use {} to group code, Python uses indentation.\n",
        "\n",
        "#For example, in loops, conditionals, functions, classes — indentation shows what belongs inside them.\n",
        "\n",
        "#Avoids Errors\n",
        "\n",
        "#Improper indentation leads to IndentationError or logical bugs.\n",
        "\n",
        "#Improves Readability\n",
        "\n",
        "#Clean and consistent indentation makes code easier to understand."
      ],
      "metadata": {
        "id": "lLzcHZZ604co"
      },
      "execution_count": 20,
      "outputs": []
    },
    {
      "cell_type": "code",
      "source": [],
      "metadata": {
        "id": "ONLNtMUu1FYJ"
      },
      "execution_count": null,
      "outputs": []
    },
    {
      "cell_type": "code",
      "source": [
        "#5] What happens if indentation is incorrect in Python?"
      ],
      "metadata": {
        "id": "8sYRF5Xa1J2d"
      },
      "execution_count": 21,
      "outputs": []
    },
    {
      "cell_type": "code",
      "source": [
        "#Python relies on indentation to define the structure of your code.\n",
        "#If it's incorrect, Python doesn't know which statements belong together — and it throws an error."
      ],
      "metadata": {
        "id": "KE_gmqNe1L2o"
      },
      "execution_count": 22,
      "outputs": []
    },
    {
      "cell_type": "code",
      "source": [
        "## example\n",
        "def say_hello():\n",
        "print(\"Hello, world!\")\n",
        "\n",
        "say_hello()\n"
      ],
      "metadata": {
        "colab": {
          "base_uri": "https://localhost:8080/",
          "height": 106
        },
        "id": "BO2_QuY31kEm",
        "outputId": "331fda83-f680-4c38-d1b5-a84dc5b2011f"
      },
      "execution_count": 25,
      "outputs": [
        {
          "output_type": "error",
          "ename": "IndentationError",
          "evalue": "expected an indented block after function definition on line 2 (<ipython-input-25-4d25c5168c40>, line 3)",
          "traceback": [
            "\u001b[0;36m  File \u001b[0;32m\"<ipython-input-25-4d25c5168c40>\"\u001b[0;36m, line \u001b[0;32m3\u001b[0m\n\u001b[0;31m    print(\"Hello, world!\")\u001b[0m\n\u001b[0m    ^\u001b[0m\n\u001b[0;31mIndentationError\u001b[0m\u001b[0;31m:\u001b[0m expected an indented block after function definition on line 2\n"
          ]
        }
      ]
    },
    {
      "cell_type": "code",
      "source": [
        "def say_hello():\n",
        "    print(\"Hello, world!\")\n",
        "\n",
        "say_hello()\n"
      ],
      "metadata": {
        "colab": {
          "base_uri": "https://localhost:8080/"
        },
        "id": "r_dKh81C1oF5",
        "outputId": "f24d74bb-53ae-46ba-a00b-8a3872e49632"
      },
      "execution_count": 26,
      "outputs": [
        {
          "output_type": "stream",
          "name": "stdout",
          "text": [
            "Hello, world!\n"
          ]
        }
      ]
    },
    {
      "cell_type": "code",
      "source": [],
      "metadata": {
        "id": "TJu-RPPp1x-c"
      },
      "execution_count": null,
      "outputs": []
    },
    {
      "cell_type": "code",
      "source": [
        "##6] Differentiate between expression and statement in Python with examples."
      ],
      "metadata": {
        "id": "ejl06u1S11wr"
      },
      "execution_count": 27,
      "outputs": []
    },
    {
      "cell_type": "code",
      "source": [
        "##Expression\n",
        "#A piece of code that produces a value\n",
        "#\tAlways returns a value\n",
        "#Used inside statements\n",
        "#3 + 5, x * 2, \"Hi\" + \" there\""
      ],
      "metadata": {
        "id": "43oavCnM13Eg"
      },
      "execution_count": 28,
      "outputs": []
    },
    {
      "cell_type": "code",
      "source": [
        "##Statement\n",
        "#A piece of code that performs an actio\n",
        "#Does not necessarily return a value\n",
        "#Can contain expressions inside\n",
        "#x = 10, if x > 5:, for i in range(3):"
      ],
      "metadata": {
        "id": "gxAIh29o2Y4l"
      },
      "execution_count": 29,
      "outputs": []
    },
    {
      "cell_type": "code",
      "source": [
        "####Expression\n",
        "x = 2 + 3\n"
      ],
      "metadata": {
        "id": "ces42Kdr2lEF"
      },
      "execution_count": 30,
      "outputs": []
    },
    {
      "cell_type": "code",
      "source": [
        "x"
      ],
      "metadata": {
        "colab": {
          "base_uri": "https://localhost:8080/"
        },
        "id": "VdwROLab2qkg",
        "outputId": "c3099b37-324f-4055-f785-8818c0d1c9d4"
      },
      "execution_count": 31,
      "outputs": [
        {
          "output_type": "execute_result",
          "data": {
            "text/plain": [
              "5"
            ]
          },
          "metadata": {},
          "execution_count": 31
        }
      ]
    },
    {
      "cell_type": "code",
      "source": [
        "##Statement\n",
        "x = 5\n",
        "if x > 3:\n",
        "    print(\"Greater than 3\")\n"
      ],
      "metadata": {
        "colab": {
          "base_uri": "https://localhost:8080/"
        },
        "id": "ezTioTR72rd0",
        "outputId": "00e9cf4d-5195-417b-f350-b7e002d6987a"
      },
      "execution_count": 33,
      "outputs": [
        {
          "output_type": "stream",
          "name": "stdout",
          "text": [
            "Greater than 3\n"
          ]
        }
      ]
    },
    {
      "cell_type": "code",
      "source": [],
      "metadata": {
        "id": "un6KR0Va2wga"
      },
      "execution_count": 33,
      "outputs": []
    }
  ]
}